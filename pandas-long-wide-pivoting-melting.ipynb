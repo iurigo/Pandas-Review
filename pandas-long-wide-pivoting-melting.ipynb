{
 "cells": [
  {
   "cell_type": "markdown",
   "metadata": {
    "slideshow": {
     "slide_type": "slide"
    }
   },
   "source": [
    "\n",
    "## Pandas Long Format, Wide Format, Pivot Tables, and Melting\n",
    "\n",
    "---\n"
   ]
  },
  {
   "cell_type": "markdown",
   "metadata": {
    "slideshow": {
     "slide_type": "slide"
    }
   },
   "source": [
    "\n",
    "This lesson is all about transforming data using `pandas`. Data transformation is the reorganization of your data set's rows and columns into a different, potentially more useful shape and format. \n",
    "\n",
    "The benefits of transforming your data include better access to relevant information and streamlined data manipulation. As you become more familiar with data sets and their associated operations, you will develop an intuition and appreciation for when it's better to work row-wise or column-wise.\n",
    "\n",
    "Different data formats are better for different tasks. It takes time and experience to learn the distinctions. But, for now, we'll introduce the common structures, transformations, and how to apply these transformations.\n",
    "\n",
    "\n"
   ]
  },
  {
   "cell_type": "markdown",
   "metadata": {
    "slideshow": {
     "slide_type": "slide"
    }
   },
   "source": [
    "### Learning Objectives\n",
    "- Understand the differences between long and wide format data.\n",
    "- Understand pivot tables.\n",
    "- Practice transforming data between long and wide formats.\n",
    "- Practice creating pivot tables.\n",
    "- Learn how to avoid common pitfalls and obstacles in data transformation with `pandas`."
   ]
  },
  {
   "cell_type": "code",
   "execution_count": 21,
   "metadata": {
    "collapsed": true,
    "slideshow": {
     "slide_type": "slide"
    }
   },
   "outputs": [],
   "source": [
    "import numpy as np\n",
    "import scipy.stats as stats\n",
    "import seaborn as sns\n",
    "import matplotlib.pyplot as plt\n",
    "import pandas as pd\n",
    "\n",
    "sns.set_style('darkgrid')\n",
    "\n",
    "%config InlineBackend.figure_format = 'retina'\n",
    "%matplotlib inline"
   ]
  },
  {
   "cell_type": "markdown",
   "metadata": {
    "slideshow": {
     "slide_type": "slide"
    }
   },
   "source": [
    "<a id='wide_format'></a>\n",
    "\n",
    "### Wide Format Data\n",
    "\n",
    "---\n",
    "\n",
    "Between \"wide\" and \"long,\" wide format data is the more intuitive. It's also a common format for `.csv` files. You've already viewed multiple data sets in wide format throughout this course.\n",
    "\n"
   ]
  },
  {
   "cell_type": "markdown",
   "metadata": {
    "slideshow": {
     "slide_type": "slide"
    }
   },
   "source": [
    "Wide format data is structured so that:\n",
    "\n",
    "- Unique IDs, subjects, observations, etc. are represented as rows.\n",
    "- Distinct information categories (variables) are represented as columns. In other words, there is a column for every \"variable\" with its own unique values.\n",
    "- This format can often be a more compact matrix, particularly if little or no information is missing.\n",
    "- It can be useful in `pandas` when you need to perform operations on variables **across columns**; for example, multiplying columns together to create a new column.\n",
    "- It is the data format required for statistical modeling (with few exceptions)."
   ]
  },
  {
   "cell_type": "markdown",
   "metadata": {
    "slideshow": {
     "slide_type": "slide"
    }
   },
   "source": [
    "<a id='load_nerdy'></a>\n",
    "\n",
    "### Load and Examine the \"Nerdy Personality Attributes\" Data Set\n",
    "\n",
    "---\n",
    "\n",
    "This is a pre-cleaned and modified version of the full \"Nerdy Personality Attributes\" survey, which asked subjects to rate themselves based on questions related to \"nerdiness\" as well as more general personality traits such as openness and extraversion. Researches also collected demographic information from the subjects.\n",
    "\n",
    "You can find the raw data [here](http://personality-testing.info/_rawdata/), along with many other sociological surveys.\n"
   ]
  },
  {
   "cell_type": "markdown",
   "metadata": {
    "slideshow": {
     "slide_type": "slide"
    }
   },
   "source": [
    "\n",
    "In this modified version, for the sake of our example, some of the subjects provided data for the survey but not the demographic variables. Because there are missing values and the data are \"messy,\" we have a data cleaning problem.\n",
    "\n",
    "**Load the data (which is in wide format).** "
   ]
  },
  {
   "cell_type": "code",
   "execution_count": 22,
   "metadata": {
    "slideshow": {
     "slide_type": "slide"
    }
   },
   "outputs": [
    {
     "name": "stdout",
     "output_type": "stream",
     "text": [
      "(1391, 57)\n"
     ]
    }
   ],
   "source": [
    "nerdy_wide_f = 'datasets/NPAS_parsed_trunc_wide_missing.csv'\n",
    "\n",
    "nerdy_wide = pd.read_csv(nerdy_wide_f)\n",
    "print nerdy_wide.shape"
   ]
  },
  {
   "cell_type": "markdown",
   "metadata": {
    "slideshow": {
     "slide_type": "slide"
    }
   },
   "source": [
    "This data set is in a familiar format in which each column is a variable and each row contains an observation for that variable, corresponding to a distinct subject.\n",
    "\n",
    "*Wide format implies that all of the information for one distinct subject will be represented in the columns corresponding to that row. A single subject should not be represented in multiple rows of data.*"
   ]
  },
  {
   "cell_type": "code",
   "execution_count": 23,
   "metadata": {
    "slideshow": {
     "slide_type": "fragment"
    }
   },
   "outputs": [
    {
     "data": {
      "text/html": [
       "<div>\n",
       "<style>\n",
       "    .dataframe thead tr:only-child th {\n",
       "        text-align: right;\n",
       "    }\n",
       "\n",
       "    .dataframe thead th {\n",
       "        text-align: left;\n",
       "    }\n",
       "\n",
       "    .dataframe tbody tr th {\n",
       "        vertical-align: top;\n",
       "    }\n",
       "</style>\n",
       "<table border=\"1\" class=\"dataframe\">\n",
       "  <thead>\n",
       "    <tr style=\"text-align: right;\">\n",
       "      <th></th>\n",
       "      <th>subject_id</th>\n",
       "      <th>academic_over_social</th>\n",
       "      <th>age</th>\n",
       "      <th>anxious</th>\n",
       "      <th>bookish</th>\n",
       "      <th>books_over_parties</th>\n",
       "      <th>calm</th>\n",
       "      <th>collect_books</th>\n",
       "      <th>conventional</th>\n",
       "      <th>critical</th>\n",
       "      <th>...</th>\n",
       "      <th>religion</th>\n",
       "      <th>reserved</th>\n",
       "      <th>socially_awkward</th>\n",
       "      <th>strange_person</th>\n",
       "      <th>sympathetic</th>\n",
       "      <th>urban</th>\n",
       "      <th>voted</th>\n",
       "      <th>was_odd_child</th>\n",
       "      <th>watch_science_shows</th>\n",
       "      <th>writing_novel</th>\n",
       "    </tr>\n",
       "  </thead>\n",
       "  <tbody>\n",
       "    <tr>\n",
       "      <th>0</th>\n",
       "      <td>0</td>\n",
       "      <td>5.0</td>\n",
       "      <td>NaN</td>\n",
       "      <td>1.0</td>\n",
       "      <td>5.0</td>\n",
       "      <td>5.0</td>\n",
       "      <td>7.0</td>\n",
       "      <td>5.0</td>\n",
       "      <td>1.0</td>\n",
       "      <td>1.0</td>\n",
       "      <td>...</td>\n",
       "      <td>NaN</td>\n",
       "      <td>7.0</td>\n",
       "      <td>5.0</td>\n",
       "      <td>5.0</td>\n",
       "      <td>7.0</td>\n",
       "      <td>NaN</td>\n",
       "      <td>NaN</td>\n",
       "      <td>5.0</td>\n",
       "      <td>5.0</td>\n",
       "      <td>3.0</td>\n",
       "    </tr>\n",
       "    <tr>\n",
       "      <th>1</th>\n",
       "      <td>1</td>\n",
       "      <td>2.0</td>\n",
       "      <td>50.0</td>\n",
       "      <td>4.0</td>\n",
       "      <td>4.0</td>\n",
       "      <td>4.0</td>\n",
       "      <td>6.0</td>\n",
       "      <td>5.0</td>\n",
       "      <td>1.0</td>\n",
       "      <td>3.0</td>\n",
       "      <td>...</td>\n",
       "      <td>1.0</td>\n",
       "      <td>5.0</td>\n",
       "      <td>5.0</td>\n",
       "      <td>4.0</td>\n",
       "      <td>5.0</td>\n",
       "      <td>2.0</td>\n",
       "      <td>1.0</td>\n",
       "      <td>3.0</td>\n",
       "      <td>5.0</td>\n",
       "      <td>1.0</td>\n",
       "    </tr>\n",
       "    <tr>\n",
       "      <th>2</th>\n",
       "      <td>2</td>\n",
       "      <td>5.0</td>\n",
       "      <td>22.0</td>\n",
       "      <td>7.0</td>\n",
       "      <td>5.0</td>\n",
       "      <td>5.0</td>\n",
       "      <td>2.0</td>\n",
       "      <td>5.0</td>\n",
       "      <td>1.0</td>\n",
       "      <td>6.0</td>\n",
       "      <td>...</td>\n",
       "      <td>1.0</td>\n",
       "      <td>7.0</td>\n",
       "      <td>5.0</td>\n",
       "      <td>5.0</td>\n",
       "      <td>2.0</td>\n",
       "      <td>1.0</td>\n",
       "      <td>1.0</td>\n",
       "      <td>5.0</td>\n",
       "      <td>5.0</td>\n",
       "      <td>4.0</td>\n",
       "    </tr>\n",
       "  </tbody>\n",
       "</table>\n",
       "<p>3 rows × 57 columns</p>\n",
       "</div>"
      ],
      "text/plain": [
       "   subject_id  academic_over_social   age  anxious  bookish  \\\n",
       "0           0                   5.0   NaN      1.0      5.0   \n",
       "1           1                   2.0  50.0      4.0      4.0   \n",
       "2           2                   5.0  22.0      7.0      5.0   \n",
       "\n",
       "   books_over_parties  calm  collect_books  conventional  critical  \\\n",
       "0                 5.0   7.0            5.0           1.0       1.0   \n",
       "1                 4.0   6.0            5.0           1.0       3.0   \n",
       "2                 5.0   2.0            5.0           1.0       6.0   \n",
       "\n",
       "       ...        religion  reserved  socially_awkward  strange_person  \\\n",
       "0      ...             NaN       7.0               5.0             5.0   \n",
       "1      ...             1.0       5.0               5.0             4.0   \n",
       "2      ...             1.0       7.0               5.0             5.0   \n",
       "\n",
       "   sympathetic  urban  voted  was_odd_child  watch_science_shows  \\\n",
       "0          7.0    NaN    NaN            5.0                  5.0   \n",
       "1          5.0    2.0    1.0            3.0                  5.0   \n",
       "2          2.0    1.0    1.0            5.0                  5.0   \n",
       "\n",
       "   writing_novel  \n",
       "0            3.0  \n",
       "1            1.0  \n",
       "2            4.0  \n",
       "\n",
       "[3 rows x 57 columns]"
      ]
     },
     "execution_count": 23,
     "metadata": {},
     "output_type": "execute_result"
    }
   ],
   "source": [
    "nerdy_wide.head(3)"
   ]
  },
  {
   "cell_type": "markdown",
   "metadata": {
    "slideshow": {
     "slide_type": "slide"
    }
   },
   "source": [
    "**Check to see how many null values there are per column.**"
   ]
  },
  {
   "cell_type": "code",
   "execution_count": 24,
   "metadata": {},
   "outputs": [
    {
     "name": "stdout",
     "output_type": "stream",
     "text": [
      "<class 'pandas.core.frame.DataFrame'>\n",
      "RangeIndex: 1391 entries, 0 to 1390\n",
      "Data columns (total 57 columns):\n",
      "subject_id                      1391 non-null int64\n",
      "academic_over_social            1391 non-null float64\n",
      "age                             700 non-null float64\n",
      "anxious                         1391 non-null float64\n",
      "bookish                         1391 non-null float64\n",
      "books_over_parties              1391 non-null float64\n",
      "calm                            1391 non-null float64\n",
      "collect_books                   1391 non-null float64\n",
      "conventional                    1391 non-null float64\n",
      "critical                        1391 non-null float64\n",
      "dependable                      1391 non-null float64\n",
      "diagnosed_autistic              1391 non-null float64\n",
      "disorganized                    1391 non-null float64\n",
      "education                       700 non-null float64\n",
      "engnat                          700 non-null float64\n",
      "enjoy_learning                  1391 non-null float64\n",
      "excited_about_research          1391 non-null float64\n",
      "extraverted                     1391 non-null float64\n",
      "familysize                      700 non-null float64\n",
      "gender                          700 non-null float64\n",
      "hand                            700 non-null float64\n",
      "hobbies_over_people             1391 non-null float64\n",
      "in_advanced_classes             1391 non-null float64\n",
      "intelligence_over_appearance    1391 non-null float64\n",
      "interested_science              1391 non-null float64\n",
      "introspective                   1391 non-null float64\n",
      "libraries_over_publicspace      1391 non-null float64\n",
      "like_dry_topics                 1391 non-null float64\n",
      "like_hard_material              1391 non-null float64\n",
      "like_science_fiction            1391 non-null float64\n",
      "like_superheroes                1391 non-null float64\n",
      "major                           421 non-null object\n",
      "married                         700 non-null float64\n",
      "online_over_inperson            1391 non-null float64\n",
      "opennness                       1391 non-null float64\n",
      "play_many_videogames            1391 non-null float64\n",
      "playes_rpgs                     1391 non-null float64\n",
      "prefer_fictional_people         1391 non-null float64\n",
      "race_arab                       1391 non-null float64\n",
      "race_asian                      1391 non-null float64\n",
      "race_black                      1391 non-null float64\n",
      "race_hispanic                   1391 non-null float64\n",
      "race_native_american            1391 non-null float64\n",
      "race_native_austrailian         1391 non-null float64\n",
      "race_nerdy                      1391 non-null float64\n",
      "race_white                      1391 non-null float64\n",
      "read_tech_reports               1391 non-null float64\n",
      "religion                        700 non-null float64\n",
      "reserved                        1391 non-null float64\n",
      "socially_awkward                1391 non-null float64\n",
      "strange_person                  1391 non-null float64\n",
      "sympathetic                     1391 non-null float64\n",
      "urban                           700 non-null float64\n",
      "voted                           700 non-null float64\n",
      "was_odd_child                   1391 non-null float64\n",
      "watch_science_shows             1391 non-null float64\n",
      "writing_novel                   1391 non-null float64\n",
      "dtypes: float64(55), int64(1), object(1)\n",
      "memory usage: 619.5+ KB\n"
     ]
    }
   ],
   "source": [
    "nerdy_wide.info()"
   ]
  },
  {
   "cell_type": "code",
   "execution_count": 25,
   "metadata": {
    "slideshow": {
     "slide_type": "fragment"
    }
   },
   "outputs": [
    {
     "data": {
      "text/plain": [
       "subject_id                        0\n",
       "academic_over_social              0\n",
       "age                             691\n",
       "anxious                           0\n",
       "bookish                           0\n",
       "books_over_parties                0\n",
       "calm                              0\n",
       "collect_books                     0\n",
       "conventional                      0\n",
       "critical                          0\n",
       "dependable                        0\n",
       "diagnosed_autistic                0\n",
       "disorganized                      0\n",
       "education                       691\n",
       "engnat                          691\n",
       "enjoy_learning                    0\n",
       "excited_about_research            0\n",
       "extraverted                       0\n",
       "familysize                      691\n",
       "gender                          691\n",
       "hand                            691\n",
       "hobbies_over_people               0\n",
       "in_advanced_classes               0\n",
       "intelligence_over_appearance      0\n",
       "interested_science                0\n",
       "introspective                     0\n",
       "libraries_over_publicspace        0\n",
       "like_dry_topics                   0\n",
       "like_hard_material                0\n",
       "like_science_fiction              0\n",
       "like_superheroes                  0\n",
       "major                           970\n",
       "married                         691\n",
       "online_over_inperson              0\n",
       "opennness                         0\n",
       "play_many_videogames              0\n",
       "playes_rpgs                       0\n",
       "prefer_fictional_people           0\n",
       "race_arab                         0\n",
       "race_asian                        0\n",
       "race_black                        0\n",
       "race_hispanic                     0\n",
       "race_native_american              0\n",
       "race_native_austrailian           0\n",
       "race_nerdy                        0\n",
       "race_white                        0\n",
       "read_tech_reports                 0\n",
       "religion                        691\n",
       "reserved                          0\n",
       "socially_awkward                  0\n",
       "strange_person                    0\n",
       "sympathetic                       0\n",
       "urban                           691\n",
       "voted                           691\n",
       "was_odd_child                     0\n",
       "watch_science_shows               0\n",
       "writing_novel                     0\n",
       "dtype: int64"
      ]
     },
     "execution_count": 25,
     "metadata": {},
     "output_type": "execute_result"
    }
   ],
   "source": [
    "nerdy_wide.isnull().sum()"
   ]
  },
  {
   "cell_type": "markdown",
   "metadata": {
    "slideshow": {
     "slide_type": "slide"
    }
   },
   "source": [
    "There are 691 missing demographic variables.\n",
    "\n",
    "The `major` variable has 970 missing values. \n",
    "\n",
    "At this point, if we were to just drop all the rows that have any null values, we would lose at least 970 rows because of the missing `major` variable.\n",
    "\n",
    "> What can we do about that?"
   ]
  },
  {
   "cell_type": "markdown",
   "metadata": {
    "slideshow": {
     "slide_type": "slide"
    }
   },
   "source": [
    "With a numeric column, this would be hard to avoid without \"imputing\" some number to fill in those values. In the simplest case, imputing the mean or median for missing numeric values is a common fix (but not ideal).\n",
    "\n",
    "With a **categorical variable** like `major`, we have the luxury of replacing the missing values with a new category label that stands for \"missing.\" \n",
    "\n",
    "**Replace the missing `major` column values with `unknown`.**"
   ]
  },
  {
   "cell_type": "code",
   "execution_count": 26,
   "metadata": {
    "slideshow": {
     "slide_type": "fragment"
    }
   },
   "outputs": [
    {
     "name": "stdout",
     "output_type": "stream",
     "text": [
      "0\n"
     ]
    }
   ],
   "source": [
    "nerdy_wide.loc[nerdy_wide.major.isnull(), 'major'] = 'unknown'\n",
    "print nerdy_wide.major.isnull().sum()"
   ]
  },
  {
   "cell_type": "code",
   "execution_count": 27,
   "metadata": {
    "slideshow": {
     "slide_type": "fragment"
    }
   },
   "outputs": [
    {
     "data": {
      "text/plain": [
       "major    0\n",
       "dtype: int64"
      ]
     },
     "execution_count": 27,
     "metadata": {},
     "output_type": "execute_result"
    }
   ],
   "source": [
    "nerdy_wide.isnull().sum()[nerdy_wide.isnull().sum().index=='major']"
   ]
  },
  {
   "cell_type": "markdown",
   "metadata": {
    "slideshow": {
     "slide_type": "slide"
    }
   },
   "source": [
    "<a id='long_format'></a>\n",
    "\n",
    "### Long Format Data\n",
    "\n",
    "---\n",
    "\n",
    "Now, we can load the same data — this time in the format commonly called \"long.\"\n",
    "\n",
    "Long format data is structured so that:\n",
    "\n",
    "- There are potentially multiple `ID` (identification) columns.\n",
    "- There are pairs of columns such as `variable:value` that match a variable key to a value (In the simplest case, there would be a single `variable` column and a single `value` column).\n",
    "- The `variable` column corresponds to the multiple variable columns in a wide format data set. Instead of a column for each variable, you have a row for each `variable:value` pair *per ID*. \n",
    "- This is a standard format for SQL databases because it makes it easier to join different tables together with keys.\n",
    "\n",
    "**Load the long format of the same data below.**"
   ]
  },
  {
   "cell_type": "code",
   "execution_count": 28,
   "metadata": {
    "slideshow": {
     "slide_type": "slide"
    }
   },
   "outputs": [
    {
     "name": "stdout",
     "output_type": "stream",
     "text": [
      "(70295, 3)\n"
     ]
    }
   ],
   "source": [
    "nerdy_long_f = './datasets/NPAS_parsed_trunc_long_missing.csv'\n",
    "\n",
    "nerdy_long = pd.read_csv(nerdy_long_f)\n",
    "print nerdy_long.shape"
   ]
  },
  {
   "cell_type": "code",
   "execution_count": 29,
   "metadata": {
    "slideshow": {
     "slide_type": "slide"
    }
   },
   "outputs": [
    {
     "data": {
      "text/html": [
       "<div>\n",
       "<style>\n",
       "    .dataframe thead tr:only-child th {\n",
       "        text-align: right;\n",
       "    }\n",
       "\n",
       "    .dataframe thead th {\n",
       "        text-align: left;\n",
       "    }\n",
       "\n",
       "    .dataframe tbody tr th {\n",
       "        vertical-align: top;\n",
       "    }\n",
       "</style>\n",
       "<table border=\"1\" class=\"dataframe\">\n",
       "  <thead>\n",
       "    <tr style=\"text-align: right;\">\n",
       "      <th></th>\n",
       "      <th>subject_id</th>\n",
       "      <th>variable</th>\n",
       "      <th>value</th>\n",
       "    </tr>\n",
       "  </thead>\n",
       "  <tbody>\n",
       "    <tr>\n",
       "      <th>0</th>\n",
       "      <td>1</td>\n",
       "      <td>education</td>\n",
       "      <td>4.0</td>\n",
       "    </tr>\n",
       "    <tr>\n",
       "      <th>1</th>\n",
       "      <td>2</td>\n",
       "      <td>education</td>\n",
       "      <td>3.0</td>\n",
       "    </tr>\n",
       "    <tr>\n",
       "      <th>2</th>\n",
       "      <td>5</td>\n",
       "      <td>education</td>\n",
       "      <td>2.0</td>\n",
       "    </tr>\n",
       "    <tr>\n",
       "      <th>3</th>\n",
       "      <td>6</td>\n",
       "      <td>education</td>\n",
       "      <td>2.0</td>\n",
       "    </tr>\n",
       "    <tr>\n",
       "      <th>4</th>\n",
       "      <td>7</td>\n",
       "      <td>education</td>\n",
       "      <td>2.0</td>\n",
       "    </tr>\n",
       "  </tbody>\n",
       "</table>\n",
       "</div>"
      ],
      "text/plain": [
       "   subject_id   variable value\n",
       "0           1  education   4.0\n",
       "1           2  education   3.0\n",
       "2           5  education   2.0\n",
       "3           6  education   2.0\n",
       "4           7  education   2.0"
      ]
     },
     "execution_count": 29,
     "metadata": {},
     "output_type": "execute_result"
    }
   ],
   "source": [
    "nerdy_long.head()"
   ]
  },
  {
   "cell_type": "markdown",
   "metadata": {},
   "source": [
    "You can see that the long format data has far more rows than the wide data set but only three columns.\n",
    "\n",
    "Below you can view the three columns: `subject_id`, `variable`, and `value`.\n",
    "\n",
    "**`subject_id:`**\n",
    "- This is the primary \"key\" or `ID` column. Each `subject_id` will have corresponding entries in the `variable` column — one for each row.\n",
    "\n",
    "**`variable:`**\n",
    "- This column indicates the variable with which the item in the `value` column corresponds.\n",
    "\n",
    "**`value:`**\n",
    "\n",
    "- This contains all values for all variables for all IDs. Essentially, every cell in the wide data set except the `subject_id` is listed in this column."
   ]
  },
  {
   "cell_type": "markdown",
   "metadata": {
    "slideshow": {
     "slide_type": "slide"
    }
   },
   "source": [
    "**Print out the unique values in the `variable` column.**\n",
    "\n",
    "You can see that the unique values in the `variable` column correspond to the column headers in the wide format data."
   ]
  },
  {
   "cell_type": "code",
   "execution_count": 30,
   "metadata": {
    "slideshow": {
     "slide_type": "-"
    }
   },
   "outputs": [
    {
     "data": {
      "text/plain": [
       "array(['education', 'urban', 'gender', 'engnat', 'age', 'hand', 'religion',\n",
       "       'voted', 'married', 'familysize', 'major', 'race_white',\n",
       "       'race_nerdy', 'race_native_american', 'writing_novel',\n",
       "       'read_tech_reports', 'online_over_inperson', 'introspective',\n",
       "       'hobbies_over_people', 'books_over_parties', 'bookish',\n",
       "       'libraries_over_publicspace', 'race_native_austrailian',\n",
       "       'like_hard_material', 'race_hispanic', 'diagnosed_autistic',\n",
       "       'play_many_videogames', 'race_arab', 'race_asian',\n",
       "       'interested_science', 'playes_rpgs', 'in_advanced_classes',\n",
       "       'collect_books', 'intelligence_over_appearance',\n",
       "       'watch_science_shows', 'academic_over_social',\n",
       "       'like_science_fiction', 'like_dry_topics', 'race_black', 'calm',\n",
       "       'disorganized', 'extraverted', 'dependable', 'critical',\n",
       "       'opennness', 'anxious', 'sympathetic', 'reserved', 'conventional',\n",
       "       'was_odd_child', 'prefer_fictional_people', 'enjoy_learning',\n",
       "       'excited_about_research', 'strange_person', 'like_superheroes',\n",
       "       'socially_awkward'], dtype=object)"
      ]
     },
     "execution_count": 30,
     "metadata": {},
     "output_type": "execute_result"
    }
   ],
   "source": [
    "nerdy_long.variable.unique()"
   ]
  },
  {
   "cell_type": "markdown",
   "metadata": {
    "slideshow": {
     "slide_type": "slide"
    }
   },
   "source": [
    "**Replace the missing values in `major` with `unknown` in the long format data set.**\n",
    "\n",
    "The process for replacing data will be different because of the format. Using logical selection masks with `pandas`' `.loc` syntax is the preferable way to do this."
   ]
  },
  {
   "cell_type": "code",
   "execution_count": 31,
   "metadata": {
    "slideshow": {
     "slide_type": "-"
    }
   },
   "outputs": [
    {
     "data": {
      "text/html": [
       "<div>\n",
       "<style>\n",
       "    .dataframe thead tr:only-child th {\n",
       "        text-align: right;\n",
       "    }\n",
       "\n",
       "    .dataframe thead th {\n",
       "        text-align: left;\n",
       "    }\n",
       "\n",
       "    .dataframe tbody tr th {\n",
       "        vertical-align: top;\n",
       "    }\n",
       "</style>\n",
       "<table border=\"1\" class=\"dataframe\">\n",
       "  <thead>\n",
       "    <tr style=\"text-align: right;\">\n",
       "      <th></th>\n",
       "      <th>subject_id</th>\n",
       "      <th>variable</th>\n",
       "      <th>value</th>\n",
       "    </tr>\n",
       "  </thead>\n",
       "  <tbody>\n",
       "    <tr>\n",
       "      <th>7000</th>\n",
       "      <td>1</td>\n",
       "      <td>major</td>\n",
       "      <td>biophysics</td>\n",
       "    </tr>\n",
       "    <tr>\n",
       "      <th>7001</th>\n",
       "      <td>2</td>\n",
       "      <td>major</td>\n",
       "      <td>biology</td>\n",
       "    </tr>\n",
       "    <tr>\n",
       "      <th>7002</th>\n",
       "      <td>5</td>\n",
       "      <td>major</td>\n",
       "      <td>Geology</td>\n",
       "    </tr>\n",
       "    <tr>\n",
       "      <th>7003</th>\n",
       "      <td>6</td>\n",
       "      <td>major</td>\n",
       "      <td>NaN</td>\n",
       "    </tr>\n",
       "    <tr>\n",
       "      <th>7004</th>\n",
       "      <td>7</td>\n",
       "      <td>major</td>\n",
       "      <td>NaN</td>\n",
       "    </tr>\n",
       "  </tbody>\n",
       "</table>\n",
       "</div>"
      ],
      "text/plain": [
       "      subject_id variable       value\n",
       "7000           1    major  biophysics\n",
       "7001           2    major     biology\n",
       "7002           5    major     Geology\n",
       "7003           6    major         NaN\n",
       "7004           7    major         NaN"
      ]
     },
     "execution_count": 31,
     "metadata": {},
     "output_type": "execute_result"
    }
   ],
   "source": [
    "nerdy_long[nerdy_long['variable']=='major'].head()"
   ]
  },
  {
   "cell_type": "code",
   "execution_count": 32,
   "metadata": {
    "slideshow": {
     "slide_type": "slide"
    }
   },
   "outputs": [
    {
     "name": "stdout",
     "output_type": "stream",
     "text": [
      "0    False\n",
      "1    False\n",
      "2    False\n",
      "3    False\n",
      "4    False\n",
      "dtype: bool\n",
      "subject_id    0\n",
      "variable      0\n",
      "value         0\n",
      "dtype: int64\n"
     ]
    }
   ],
   "source": [
    "# Rather than calling the `major` column like we would in a wide DF,\n",
    "# we have to isolate all rows with a variable value of `major` in a long DF.\n",
    "major_mask = (nerdy_long.variable == 'major') & (nerdy_long.value.isnull())\n",
    "print major_mask[:5]\n",
    "nerdy_long.loc[major_mask, 'value'] = 'unknown'\n",
    "print nerdy_long[nerdy_long.variable == 'major'].isnull().sum()"
   ]
  },
  {
   "cell_type": "markdown",
   "metadata": {
    "slideshow": {
     "slide_type": "slide"
    }
   },
   "source": [
    "### So we know what wide data look like, and what long data (a.k.a. tidy) data look like...\n",
    "\n",
    "But why the different types?\n",
    "\n",
    "- SQL performs better with long data\n",
    "- Models tend only to work with wide data\n",
    "- Charts are often easier to make with long data\n",
    "- [example use case](http://data.library.virginia.edu/reshaping-data-from-wide-to-long/)"
   ]
  },
  {
   "cell_type": "markdown",
   "metadata": {
    "slideshow": {
     "slide_type": "slide"
    }
   },
   "source": [
    "### Let's convert... first, long to wide"
   ]
  },
  {
   "cell_type": "markdown",
   "metadata": {},
   "source": [
    "<a id='pivot_tables'></a>\n",
    "\n",
    "### `Pandas`' `.pivot_table()` Function: Long to Wide Format\n",
    "\n",
    "---\n",
    "\n",
    "The `pd.pivot_table()` function is a powerful tool for both transforming data from long to wide format as well as summarizing data with user-supplied functions.\n",
    "\n",
    "First, we'll look at transforming the long format data back into the wide format using the `.pivot_table()` function.\n",
    "\n"
   ]
  },
  {
   "cell_type": "markdown",
   "metadata": {},
   "source": [
    "**Important parameters for the `.pivot_table()` function include:**\n",
    "\n",
    "- The `pivot_table()` function takes a DataFrame to pivot as its first argument. \n",
    "    \n",
    "- **`columns`**: This is the list of columns in the long format data to be transformed back into columns in the wide format.\n",
    "- **`values`**: A single column indicating the values to use when filling the new wide format columns.\n",
    "- **`index`**: Columns in the long format data that we want to be the index variables. \n",
    "- **`aggfunc`**: Often `.pivot_table()` is used to perform a summary of the data. `aggfunc` stands for \"aggregation function.\" It's required and defaults to `np.mean()`. You can also insert your own function, which we'll demonstrate below.\n",
    "- **`fill_value`**: If a cell is missing for the wide format data, this value will fill it in.\n",
    "    \n"
   ]
  },
  {
   "cell_type": "markdown",
   "metadata": {
    "slideshow": {
     "slide_type": "slide"
    }
   },
   "source": [
    "Next we'll put in our own function — `select_item_or_nan()` — to the `aggfunc` keyword argument. \n",
    "\n",
    "\n",
    "Because my `subject_id` column has a single variable value for each ID, I just want the single element in the long format value cell. \n",
    "\n",
    "But my data are messy, and I have some missing values, so I have to write a function to check if a value is available, and if it's not, just to fill in with np.nan.\n"
   ]
  },
  {
   "cell_type": "code",
   "execution_count": 33,
   "metadata": {
    "slideshow": {
     "slide_type": "slide"
    }
   },
   "outputs": [
    {
     "data": {
      "text/html": [
       "<div>\n",
       "<style>\n",
       "    .dataframe thead tr:only-child th {\n",
       "        text-align: right;\n",
       "    }\n",
       "\n",
       "    .dataframe thead th {\n",
       "        text-align: left;\n",
       "    }\n",
       "\n",
       "    .dataframe tbody tr th {\n",
       "        vertical-align: top;\n",
       "    }\n",
       "</style>\n",
       "<table border=\"1\" class=\"dataframe\">\n",
       "  <thead>\n",
       "    <tr style=\"text-align: right;\">\n",
       "      <th>variable</th>\n",
       "      <th>academic_over_social</th>\n",
       "      <th>age</th>\n",
       "      <th>anxious</th>\n",
       "      <th>bookish</th>\n",
       "      <th>books_over_parties</th>\n",
       "      <th>calm</th>\n",
       "      <th>collect_books</th>\n",
       "      <th>conventional</th>\n",
       "      <th>critical</th>\n",
       "      <th>dependable</th>\n",
       "      <th>...</th>\n",
       "      <th>religion</th>\n",
       "      <th>reserved</th>\n",
       "      <th>socially_awkward</th>\n",
       "      <th>strange_person</th>\n",
       "      <th>sympathetic</th>\n",
       "      <th>urban</th>\n",
       "      <th>voted</th>\n",
       "      <th>was_odd_child</th>\n",
       "      <th>watch_science_shows</th>\n",
       "      <th>writing_novel</th>\n",
       "    </tr>\n",
       "    <tr>\n",
       "      <th>subject_id</th>\n",
       "      <th></th>\n",
       "      <th></th>\n",
       "      <th></th>\n",
       "      <th></th>\n",
       "      <th></th>\n",
       "      <th></th>\n",
       "      <th></th>\n",
       "      <th></th>\n",
       "      <th></th>\n",
       "      <th></th>\n",
       "      <th></th>\n",
       "      <th></th>\n",
       "      <th></th>\n",
       "      <th></th>\n",
       "      <th></th>\n",
       "      <th></th>\n",
       "      <th></th>\n",
       "      <th></th>\n",
       "      <th></th>\n",
       "      <th></th>\n",
       "      <th></th>\n",
       "    </tr>\n",
       "  </thead>\n",
       "  <tbody>\n",
       "    <tr>\n",
       "      <th>0</th>\n",
       "      <td>5.0</td>\n",
       "      <td>NaN</td>\n",
       "      <td>1.0</td>\n",
       "      <td>5.0</td>\n",
       "      <td>5.0</td>\n",
       "      <td>7.0</td>\n",
       "      <td>5.0</td>\n",
       "      <td>1.0</td>\n",
       "      <td>1.0</td>\n",
       "      <td>7.0</td>\n",
       "      <td>...</td>\n",
       "      <td>NaN</td>\n",
       "      <td>7.0</td>\n",
       "      <td>5.0</td>\n",
       "      <td>5.0</td>\n",
       "      <td>7.0</td>\n",
       "      <td>NaN</td>\n",
       "      <td>NaN</td>\n",
       "      <td>5.0</td>\n",
       "      <td>5.0</td>\n",
       "      <td>3.0</td>\n",
       "    </tr>\n",
       "    <tr>\n",
       "      <th>1</th>\n",
       "      <td>2.0</td>\n",
       "      <td>50.0</td>\n",
       "      <td>4.0</td>\n",
       "      <td>4.0</td>\n",
       "      <td>4.0</td>\n",
       "      <td>6.0</td>\n",
       "      <td>5.0</td>\n",
       "      <td>1.0</td>\n",
       "      <td>3.0</td>\n",
       "      <td>5.0</td>\n",
       "      <td>...</td>\n",
       "      <td>1.0</td>\n",
       "      <td>5.0</td>\n",
       "      <td>5.0</td>\n",
       "      <td>4.0</td>\n",
       "      <td>5.0</td>\n",
       "      <td>2.0</td>\n",
       "      <td>1.0</td>\n",
       "      <td>3.0</td>\n",
       "      <td>5.0</td>\n",
       "      <td>1.0</td>\n",
       "    </tr>\n",
       "    <tr>\n",
       "      <th>2</th>\n",
       "      <td>5.0</td>\n",
       "      <td>22.0</td>\n",
       "      <td>7.0</td>\n",
       "      <td>5.0</td>\n",
       "      <td>5.0</td>\n",
       "      <td>2.0</td>\n",
       "      <td>5.0</td>\n",
       "      <td>1.0</td>\n",
       "      <td>6.0</td>\n",
       "      <td>3.0</td>\n",
       "      <td>...</td>\n",
       "      <td>1.0</td>\n",
       "      <td>7.0</td>\n",
       "      <td>5.0</td>\n",
       "      <td>5.0</td>\n",
       "      <td>2.0</td>\n",
       "      <td>1.0</td>\n",
       "      <td>1.0</td>\n",
       "      <td>5.0</td>\n",
       "      <td>5.0</td>\n",
       "      <td>4.0</td>\n",
       "    </tr>\n",
       "    <tr>\n",
       "      <th>3</th>\n",
       "      <td>5.0</td>\n",
       "      <td>NaN</td>\n",
       "      <td>4.0</td>\n",
       "      <td>4.0</td>\n",
       "      <td>5.0</td>\n",
       "      <td>7.0</td>\n",
       "      <td>5.0</td>\n",
       "      <td>1.0</td>\n",
       "      <td>2.0</td>\n",
       "      <td>7.0</td>\n",
       "      <td>...</td>\n",
       "      <td>NaN</td>\n",
       "      <td>2.0</td>\n",
       "      <td>5.0</td>\n",
       "      <td>5.0</td>\n",
       "      <td>6.0</td>\n",
       "      <td>NaN</td>\n",
       "      <td>NaN</td>\n",
       "      <td>5.0</td>\n",
       "      <td>5.0</td>\n",
       "      <td>4.0</td>\n",
       "    </tr>\n",
       "    <tr>\n",
       "      <th>4</th>\n",
       "      <td>4.0</td>\n",
       "      <td>NaN</td>\n",
       "      <td>3.0</td>\n",
       "      <td>5.0</td>\n",
       "      <td>5.0</td>\n",
       "      <td>6.0</td>\n",
       "      <td>4.0</td>\n",
       "      <td>2.0</td>\n",
       "      <td>5.0</td>\n",
       "      <td>4.0</td>\n",
       "      <td>...</td>\n",
       "      <td>NaN</td>\n",
       "      <td>6.0</td>\n",
       "      <td>0.0</td>\n",
       "      <td>5.0</td>\n",
       "      <td>5.0</td>\n",
       "      <td>NaN</td>\n",
       "      <td>NaN</td>\n",
       "      <td>5.0</td>\n",
       "      <td>4.0</td>\n",
       "      <td>1.0</td>\n",
       "    </tr>\n",
       "  </tbody>\n",
       "</table>\n",
       "<p>5 rows × 56 columns</p>\n",
       "</div>"
      ],
      "text/plain": [
       "variable   academic_over_social   age anxious bookish books_over_parties calm  \\\n",
       "subject_id                                                                      \n",
       "0                           5.0   NaN     1.0     5.0                5.0  7.0   \n",
       "1                           2.0  50.0     4.0     4.0                4.0  6.0   \n",
       "2                           5.0  22.0     7.0     5.0                5.0  2.0   \n",
       "3                           5.0   NaN     4.0     4.0                5.0  7.0   \n",
       "4                           4.0   NaN     3.0     5.0                5.0  6.0   \n",
       "\n",
       "variable   collect_books conventional critical dependable      ...       \\\n",
       "subject_id                                                     ...        \n",
       "0                    5.0          1.0      1.0        7.0      ...        \n",
       "1                    5.0          1.0      3.0        5.0      ...        \n",
       "2                    5.0          1.0      6.0        3.0      ...        \n",
       "3                    5.0          1.0      2.0        7.0      ...        \n",
       "4                    4.0          2.0      5.0        4.0      ...        \n",
       "\n",
       "variable   religion reserved socially_awkward strange_person sympathetic  \\\n",
       "subject_id                                                                 \n",
       "0               NaN      7.0              5.0            5.0         7.0   \n",
       "1               1.0      5.0              5.0            4.0         5.0   \n",
       "2               1.0      7.0              5.0            5.0         2.0   \n",
       "3               NaN      2.0              5.0            5.0         6.0   \n",
       "4               NaN      6.0              0.0            5.0         5.0   \n",
       "\n",
       "variable   urban voted was_odd_child watch_science_shows writing_novel  \n",
       "subject_id                                                              \n",
       "0            NaN   NaN           5.0                 5.0           3.0  \n",
       "1            2.0   1.0           3.0                 5.0           1.0  \n",
       "2            1.0   1.0           5.0                 5.0           4.0  \n",
       "3            NaN   NaN           5.0                 5.0           4.0  \n",
       "4            NaN   NaN           5.0                 4.0           1.0  \n",
       "\n",
       "[5 rows x 56 columns]"
      ]
     },
     "execution_count": 33,
     "metadata": {},
     "output_type": "execute_result"
    }
   ],
   "source": [
    "def select_item_or_nan(x):\n",
    "    x = x.iloc[0]\n",
    "    if len(x) == 0:\n",
    "        return np.nan\n",
    "    else:\n",
    "        return x\n",
    "# This will take a few seconds to run.\n",
    "nerdy_wide_pv = pd.pivot_table(nerdy_long, columns=['variable'], values='value',\n",
    "                            index=['subject_id'], aggfunc=select_item_or_nan,\n",
    "                            fill_value=np.nan)\n",
    "# 'pv' for 'pivot version.'\n",
    "nerdy_wide_pv.head()"
   ]
  },
  {
   "cell_type": "markdown",
   "metadata": {},
   "source": [
    "<a id='multiindex'></a>\n",
    "\n",
    "### MultiIndex/Hierarchical Indices in `pandas`\n",
    "\n",
    "---\n",
    "\n",
    "In the header, you can see that the format of the new wide data is *not* the same as our originally loaded wide format. `pandas` implements something called **MultiIndexing** or **hierarchical indexing**, which allows for \"tiered\" row and column labels.\n",
    "\n",
    "The main difference is that we now have a `variable` name in the top left corner, which is \"labeling\" our columns (and corresponds to the name of our original column in the long format data). "
   ]
  },
  {
   "cell_type": "code",
   "execution_count": 34,
   "metadata": {
    "slideshow": {
     "slide_type": "fragment"
    }
   },
   "outputs": [
    {
     "data": {
      "text/html": [
       "<div>\n",
       "<style>\n",
       "    .dataframe thead tr:only-child th {\n",
       "        text-align: right;\n",
       "    }\n",
       "\n",
       "    .dataframe thead th {\n",
       "        text-align: left;\n",
       "    }\n",
       "\n",
       "    .dataframe tbody tr th {\n",
       "        vertical-align: top;\n",
       "    }\n",
       "</style>\n",
       "<table border=\"1\" class=\"dataframe\">\n",
       "  <thead>\n",
       "    <tr style=\"text-align: right;\">\n",
       "      <th>variable</th>\n",
       "      <th>academic_over_social</th>\n",
       "      <th>age</th>\n",
       "      <th>anxious</th>\n",
       "      <th>bookish</th>\n",
       "      <th>books_over_parties</th>\n",
       "      <th>calm</th>\n",
       "      <th>collect_books</th>\n",
       "      <th>conventional</th>\n",
       "      <th>critical</th>\n",
       "      <th>dependable</th>\n",
       "      <th>...</th>\n",
       "      <th>religion</th>\n",
       "      <th>reserved</th>\n",
       "      <th>socially_awkward</th>\n",
       "      <th>strange_person</th>\n",
       "      <th>sympathetic</th>\n",
       "      <th>urban</th>\n",
       "      <th>voted</th>\n",
       "      <th>was_odd_child</th>\n",
       "      <th>watch_science_shows</th>\n",
       "      <th>writing_novel</th>\n",
       "    </tr>\n",
       "    <tr>\n",
       "      <th>subject_id</th>\n",
       "      <th></th>\n",
       "      <th></th>\n",
       "      <th></th>\n",
       "      <th></th>\n",
       "      <th></th>\n",
       "      <th></th>\n",
       "      <th></th>\n",
       "      <th></th>\n",
       "      <th></th>\n",
       "      <th></th>\n",
       "      <th></th>\n",
       "      <th></th>\n",
       "      <th></th>\n",
       "      <th></th>\n",
       "      <th></th>\n",
       "      <th></th>\n",
       "      <th></th>\n",
       "      <th></th>\n",
       "      <th></th>\n",
       "      <th></th>\n",
       "      <th></th>\n",
       "    </tr>\n",
       "  </thead>\n",
       "  <tbody>\n",
       "    <tr>\n",
       "      <th>0</th>\n",
       "      <td>5.0</td>\n",
       "      <td>NaN</td>\n",
       "      <td>1.0</td>\n",
       "      <td>5.0</td>\n",
       "      <td>5.0</td>\n",
       "      <td>7.0</td>\n",
       "      <td>5.0</td>\n",
       "      <td>1.0</td>\n",
       "      <td>1.0</td>\n",
       "      <td>7.0</td>\n",
       "      <td>...</td>\n",
       "      <td>NaN</td>\n",
       "      <td>7.0</td>\n",
       "      <td>5.0</td>\n",
       "      <td>5.0</td>\n",
       "      <td>7.0</td>\n",
       "      <td>NaN</td>\n",
       "      <td>NaN</td>\n",
       "      <td>5.0</td>\n",
       "      <td>5.0</td>\n",
       "      <td>3.0</td>\n",
       "    </tr>\n",
       "    <tr>\n",
       "      <th>1</th>\n",
       "      <td>2.0</td>\n",
       "      <td>50.0</td>\n",
       "      <td>4.0</td>\n",
       "      <td>4.0</td>\n",
       "      <td>4.0</td>\n",
       "      <td>6.0</td>\n",
       "      <td>5.0</td>\n",
       "      <td>1.0</td>\n",
       "      <td>3.0</td>\n",
       "      <td>5.0</td>\n",
       "      <td>...</td>\n",
       "      <td>1.0</td>\n",
       "      <td>5.0</td>\n",
       "      <td>5.0</td>\n",
       "      <td>4.0</td>\n",
       "      <td>5.0</td>\n",
       "      <td>2.0</td>\n",
       "      <td>1.0</td>\n",
       "      <td>3.0</td>\n",
       "      <td>5.0</td>\n",
       "      <td>1.0</td>\n",
       "    </tr>\n",
       "    <tr>\n",
       "      <th>2</th>\n",
       "      <td>5.0</td>\n",
       "      <td>22.0</td>\n",
       "      <td>7.0</td>\n",
       "      <td>5.0</td>\n",
       "      <td>5.0</td>\n",
       "      <td>2.0</td>\n",
       "      <td>5.0</td>\n",
       "      <td>1.0</td>\n",
       "      <td>6.0</td>\n",
       "      <td>3.0</td>\n",
       "      <td>...</td>\n",
       "      <td>1.0</td>\n",
       "      <td>7.0</td>\n",
       "      <td>5.0</td>\n",
       "      <td>5.0</td>\n",
       "      <td>2.0</td>\n",
       "      <td>1.0</td>\n",
       "      <td>1.0</td>\n",
       "      <td>5.0</td>\n",
       "      <td>5.0</td>\n",
       "      <td>4.0</td>\n",
       "    </tr>\n",
       "    <tr>\n",
       "      <th>3</th>\n",
       "      <td>5.0</td>\n",
       "      <td>NaN</td>\n",
       "      <td>4.0</td>\n",
       "      <td>4.0</td>\n",
       "      <td>5.0</td>\n",
       "      <td>7.0</td>\n",
       "      <td>5.0</td>\n",
       "      <td>1.0</td>\n",
       "      <td>2.0</td>\n",
       "      <td>7.0</td>\n",
       "      <td>...</td>\n",
       "      <td>NaN</td>\n",
       "      <td>2.0</td>\n",
       "      <td>5.0</td>\n",
       "      <td>5.0</td>\n",
       "      <td>6.0</td>\n",
       "      <td>NaN</td>\n",
       "      <td>NaN</td>\n",
       "      <td>5.0</td>\n",
       "      <td>5.0</td>\n",
       "      <td>4.0</td>\n",
       "    </tr>\n",
       "    <tr>\n",
       "      <th>4</th>\n",
       "      <td>4.0</td>\n",
       "      <td>NaN</td>\n",
       "      <td>3.0</td>\n",
       "      <td>5.0</td>\n",
       "      <td>5.0</td>\n",
       "      <td>6.0</td>\n",
       "      <td>4.0</td>\n",
       "      <td>2.0</td>\n",
       "      <td>5.0</td>\n",
       "      <td>4.0</td>\n",
       "      <td>...</td>\n",
       "      <td>NaN</td>\n",
       "      <td>6.0</td>\n",
       "      <td>0.0</td>\n",
       "      <td>5.0</td>\n",
       "      <td>5.0</td>\n",
       "      <td>NaN</td>\n",
       "      <td>NaN</td>\n",
       "      <td>5.0</td>\n",
       "      <td>4.0</td>\n",
       "      <td>1.0</td>\n",
       "    </tr>\n",
       "  </tbody>\n",
       "</table>\n",
       "<p>5 rows × 56 columns</p>\n",
       "</div>"
      ],
      "text/plain": [
       "variable   academic_over_social   age anxious bookish books_over_parties calm  \\\n",
       "subject_id                                                                      \n",
       "0                           5.0   NaN     1.0     5.0                5.0  7.0   \n",
       "1                           2.0  50.0     4.0     4.0                4.0  6.0   \n",
       "2                           5.0  22.0     7.0     5.0                5.0  2.0   \n",
       "3                           5.0   NaN     4.0     4.0                5.0  7.0   \n",
       "4                           4.0   NaN     3.0     5.0                5.0  6.0   \n",
       "\n",
       "variable   collect_books conventional critical dependable      ...       \\\n",
       "subject_id                                                     ...        \n",
       "0                    5.0          1.0      1.0        7.0      ...        \n",
       "1                    5.0          1.0      3.0        5.0      ...        \n",
       "2                    5.0          1.0      6.0        3.0      ...        \n",
       "3                    5.0          1.0      2.0        7.0      ...        \n",
       "4                    4.0          2.0      5.0        4.0      ...        \n",
       "\n",
       "variable   religion reserved socially_awkward strange_person sympathetic  \\\n",
       "subject_id                                                                 \n",
       "0               NaN      7.0              5.0            5.0         7.0   \n",
       "1               1.0      5.0              5.0            4.0         5.0   \n",
       "2               1.0      7.0              5.0            5.0         2.0   \n",
       "3               NaN      2.0              5.0            5.0         6.0   \n",
       "4               NaN      6.0              0.0            5.0         5.0   \n",
       "\n",
       "variable   urban voted was_odd_child watch_science_shows writing_novel  \n",
       "subject_id                                                              \n",
       "0            NaN   NaN           5.0                 5.0           3.0  \n",
       "1            2.0   1.0           3.0                 5.0           1.0  \n",
       "2            1.0   1.0           5.0                 5.0           4.0  \n",
       "3            NaN   NaN           5.0                 5.0           4.0  \n",
       "4            NaN   NaN           5.0                 4.0           1.0  \n",
       "\n",
       "[5 rows x 56 columns]"
      ]
     },
     "execution_count": 34,
     "metadata": {},
     "output_type": "execute_result"
    }
   ],
   "source": [
    "nerdy_wide_pv.head()"
   ]
  },
  {
   "cell_type": "code",
   "execution_count": 37,
   "metadata": {
    "slideshow": {
     "slide_type": "slide"
    }
   },
   "outputs": [
    {
     "name": "stdout",
     "output_type": "stream",
     "text": [
      "Index([u'academic_over_social', u'age', u'anxious', u'bookish',\n",
      "       u'books_over_parties', u'calm', u'collect_books', u'conventional',\n",
      "       u'critical', u'dependable', u'diagnosed_autistic', u'disorganized',\n",
      "       u'education', u'engnat', u'enjoy_learning', u'excited_about_research',\n",
      "       u'extraverted', u'familysize', u'gender', u'hand',\n",
      "       u'hobbies_over_people', u'in_advanced_classes',\n",
      "       u'intelligence_over_appearance', u'interested_science',\n",
      "       u'introspective', u'libraries_over_publicspace', u'like_dry_topics',\n",
      "       u'like_hard_material', u'like_science_fiction', u'like_superheroes',\n",
      "       u'major', u'married', u'online_over_inperson', u'opennness',\n",
      "       u'play_many_videogames', u'playes_rpgs', u'prefer_fictional_people',\n",
      "       u'race_arab', u'race_asian', u'race_black', u'race_hispanic',\n",
      "       u'race_native_american', u'race_native_austrailian', u'race_nerdy',\n",
      "       u'race_white', u'read_tech_reports', u'religion', u'reserved',\n",
      "       u'socially_awkward', u'strange_person', u'sympathetic', u'urban',\n",
      "       u'voted', u'was_odd_child', u'watch_science_shows', u'writing_novel'],\n",
      "      dtype='object', name=u'variable')\n",
      "\n",
      "\n",
      "Index([u'subject_id', u'academic_over_social', u'age', u'anxious', u'bookish',\n",
      "       u'books_over_parties', u'calm', u'collect_books', u'conventional',\n",
      "       u'critical', u'dependable', u'diagnosed_autistic', u'disorganized',\n",
      "       u'education', u'engnat', u'enjoy_learning', u'excited_about_research',\n",
      "       u'extraverted', u'familysize', u'gender', u'hand',\n",
      "       u'hobbies_over_people', u'in_advanced_classes',\n",
      "       u'intelligence_over_appearance', u'interested_science',\n",
      "       u'introspective', u'libraries_over_publicspace', u'like_dry_topics',\n",
      "       u'like_hard_material', u'like_science_fiction', u'like_superheroes',\n",
      "       u'major', u'married', u'online_over_inperson', u'opennness',\n",
      "       u'play_many_videogames', u'playes_rpgs', u'prefer_fictional_people',\n",
      "       u'race_arab', u'race_asian', u'race_black', u'race_hispanic',\n",
      "       u'race_native_american', u'race_native_austrailian', u'race_nerdy',\n",
      "       u'race_white', u'read_tech_reports', u'religion', u'reserved',\n",
      "       u'socially_awkward', u'strange_person', u'sympathetic', u'urban',\n",
      "       u'voted', u'was_odd_child', u'watch_science_shows', u'writing_novel'],\n",
      "      dtype='object')\n",
      "(700, 56)\n"
     ]
    }
   ],
   "source": [
    "# let's comprare the columns names with our original wide dataset... do you see a difference?\n",
    "print nerdy_wide_pv.columns\n",
    "print \"\\n\"\n",
    "print nerdy_wide.columns\n",
    "print nerdy_wide_pv.shape"
   ]
  },
  {
   "cell_type": "markdown",
   "metadata": {
    "slideshow": {
     "slide_type": "slide"
    }
   },
   "source": [
    "**Let's drop the null values from our recreated wide format data. How many unique subjects do we have?**\n",
    "\n",
    "Remember our `subject_id` is now the **index**, so we can access it using the `.index` attribute."
   ]
  },
  {
   "cell_type": "code",
   "execution_count": 36,
   "metadata": {
    "slideshow": {
     "slide_type": "fragment"
    }
   },
   "outputs": [
    {
     "name": "stdout",
     "output_type": "stream",
     "text": [
      "1391\n",
      "(700, 56)\n",
      "700\n"
     ]
    },
    {
     "data": {
      "text/html": [
       "<div>\n",
       "<style>\n",
       "    .dataframe thead tr:only-child th {\n",
       "        text-align: right;\n",
       "    }\n",
       "\n",
       "    .dataframe thead th {\n",
       "        text-align: left;\n",
       "    }\n",
       "\n",
       "    .dataframe tbody tr th {\n",
       "        vertical-align: top;\n",
       "    }\n",
       "</style>\n",
       "<table border=\"1\" class=\"dataframe\">\n",
       "  <thead>\n",
       "    <tr style=\"text-align: right;\">\n",
       "      <th>variable</th>\n",
       "      <th>academic_over_social</th>\n",
       "      <th>age</th>\n",
       "      <th>anxious</th>\n",
       "      <th>bookish</th>\n",
       "      <th>books_over_parties</th>\n",
       "      <th>calm</th>\n",
       "      <th>collect_books</th>\n",
       "      <th>conventional</th>\n",
       "      <th>critical</th>\n",
       "      <th>dependable</th>\n",
       "      <th>...</th>\n",
       "      <th>religion</th>\n",
       "      <th>reserved</th>\n",
       "      <th>socially_awkward</th>\n",
       "      <th>strange_person</th>\n",
       "      <th>sympathetic</th>\n",
       "      <th>urban</th>\n",
       "      <th>voted</th>\n",
       "      <th>was_odd_child</th>\n",
       "      <th>watch_science_shows</th>\n",
       "      <th>writing_novel</th>\n",
       "    </tr>\n",
       "    <tr>\n",
       "      <th>subject_id</th>\n",
       "      <th></th>\n",
       "      <th></th>\n",
       "      <th></th>\n",
       "      <th></th>\n",
       "      <th></th>\n",
       "      <th></th>\n",
       "      <th></th>\n",
       "      <th></th>\n",
       "      <th></th>\n",
       "      <th></th>\n",
       "      <th></th>\n",
       "      <th></th>\n",
       "      <th></th>\n",
       "      <th></th>\n",
       "      <th></th>\n",
       "      <th></th>\n",
       "      <th></th>\n",
       "      <th></th>\n",
       "      <th></th>\n",
       "      <th></th>\n",
       "      <th></th>\n",
       "    </tr>\n",
       "  </thead>\n",
       "  <tbody>\n",
       "    <tr>\n",
       "      <th>1</th>\n",
       "      <td>2.0</td>\n",
       "      <td>50.0</td>\n",
       "      <td>4.0</td>\n",
       "      <td>4.0</td>\n",
       "      <td>4.0</td>\n",
       "      <td>6.0</td>\n",
       "      <td>5.0</td>\n",
       "      <td>1.0</td>\n",
       "      <td>3.0</td>\n",
       "      <td>5.0</td>\n",
       "      <td>...</td>\n",
       "      <td>1.0</td>\n",
       "      <td>5.0</td>\n",
       "      <td>5.0</td>\n",
       "      <td>4.0</td>\n",
       "      <td>5.0</td>\n",
       "      <td>2.0</td>\n",
       "      <td>1.0</td>\n",
       "      <td>3.0</td>\n",
       "      <td>5.0</td>\n",
       "      <td>1.0</td>\n",
       "    </tr>\n",
       "    <tr>\n",
       "      <th>2</th>\n",
       "      <td>5.0</td>\n",
       "      <td>22.0</td>\n",
       "      <td>7.0</td>\n",
       "      <td>5.0</td>\n",
       "      <td>5.0</td>\n",
       "      <td>2.0</td>\n",
       "      <td>5.0</td>\n",
       "      <td>1.0</td>\n",
       "      <td>6.0</td>\n",
       "      <td>3.0</td>\n",
       "      <td>...</td>\n",
       "      <td>1.0</td>\n",
       "      <td>7.0</td>\n",
       "      <td>5.0</td>\n",
       "      <td>5.0</td>\n",
       "      <td>2.0</td>\n",
       "      <td>1.0</td>\n",
       "      <td>1.0</td>\n",
       "      <td>5.0</td>\n",
       "      <td>5.0</td>\n",
       "      <td>4.0</td>\n",
       "    </tr>\n",
       "    <tr>\n",
       "      <th>5</th>\n",
       "      <td>4.0</td>\n",
       "      <td>18.0</td>\n",
       "      <td>5.0</td>\n",
       "      <td>3.0</td>\n",
       "      <td>4.0</td>\n",
       "      <td>4.0</td>\n",
       "      <td>4.0</td>\n",
       "      <td>4.0</td>\n",
       "      <td>3.0</td>\n",
       "      <td>5.0</td>\n",
       "      <td>...</td>\n",
       "      <td>1.0</td>\n",
       "      <td>5.0</td>\n",
       "      <td>4.0</td>\n",
       "      <td>5.0</td>\n",
       "      <td>4.0</td>\n",
       "      <td>3.0</td>\n",
       "      <td>2.0</td>\n",
       "      <td>4.0</td>\n",
       "      <td>5.0</td>\n",
       "      <td>3.0</td>\n",
       "    </tr>\n",
       "    <tr>\n",
       "      <th>6</th>\n",
       "      <td>4.0</td>\n",
       "      <td>18.0</td>\n",
       "      <td>1.0</td>\n",
       "      <td>4.0</td>\n",
       "      <td>5.0</td>\n",
       "      <td>6.0</td>\n",
       "      <td>5.0</td>\n",
       "      <td>1.0</td>\n",
       "      <td>1.0</td>\n",
       "      <td>2.0</td>\n",
       "      <td>...</td>\n",
       "      <td>1.0</td>\n",
       "      <td>5.0</td>\n",
       "      <td>5.0</td>\n",
       "      <td>5.0</td>\n",
       "      <td>5.0</td>\n",
       "      <td>2.0</td>\n",
       "      <td>2.0</td>\n",
       "      <td>1.0</td>\n",
       "      <td>4.0</td>\n",
       "      <td>1.0</td>\n",
       "    </tr>\n",
       "    <tr>\n",
       "      <th>7</th>\n",
       "      <td>3.0</td>\n",
       "      <td>21.0</td>\n",
       "      <td>7.0</td>\n",
       "      <td>3.0</td>\n",
       "      <td>5.0</td>\n",
       "      <td>1.0</td>\n",
       "      <td>5.0</td>\n",
       "      <td>4.0</td>\n",
       "      <td>6.0</td>\n",
       "      <td>5.0</td>\n",
       "      <td>...</td>\n",
       "      <td>12.0</td>\n",
       "      <td>5.0</td>\n",
       "      <td>5.0</td>\n",
       "      <td>5.0</td>\n",
       "      <td>6.0</td>\n",
       "      <td>2.0</td>\n",
       "      <td>1.0</td>\n",
       "      <td>3.0</td>\n",
       "      <td>3.0</td>\n",
       "      <td>3.0</td>\n",
       "    </tr>\n",
       "  </tbody>\n",
       "</table>\n",
       "<p>5 rows × 56 columns</p>\n",
       "</div>"
      ],
      "text/plain": [
       "variable   academic_over_social   age anxious bookish books_over_parties calm  \\\n",
       "subject_id                                                                      \n",
       "1                           2.0  50.0     4.0     4.0                4.0  6.0   \n",
       "2                           5.0  22.0     7.0     5.0                5.0  2.0   \n",
       "5                           4.0  18.0     5.0     3.0                4.0  4.0   \n",
       "6                           4.0  18.0     1.0     4.0                5.0  6.0   \n",
       "7                           3.0  21.0     7.0     3.0                5.0  1.0   \n",
       "\n",
       "variable   collect_books conventional critical dependable      ...       \\\n",
       "subject_id                                                     ...        \n",
       "1                    5.0          1.0      3.0        5.0      ...        \n",
       "2                    5.0          1.0      6.0        3.0      ...        \n",
       "5                    4.0          4.0      3.0        5.0      ...        \n",
       "6                    5.0          1.0      1.0        2.0      ...        \n",
       "7                    5.0          4.0      6.0        5.0      ...        \n",
       "\n",
       "variable   religion reserved socially_awkward strange_person sympathetic  \\\n",
       "subject_id                                                                 \n",
       "1               1.0      5.0              5.0            4.0         5.0   \n",
       "2               1.0      7.0              5.0            5.0         2.0   \n",
       "5               1.0      5.0              4.0            5.0         4.0   \n",
       "6               1.0      5.0              5.0            5.0         5.0   \n",
       "7              12.0      5.0              5.0            5.0         6.0   \n",
       "\n",
       "variable   urban voted was_odd_child watch_science_shows writing_novel  \n",
       "subject_id                                                              \n",
       "1            2.0   1.0           3.0                 5.0           1.0  \n",
       "2            1.0   1.0           5.0                 5.0           4.0  \n",
       "5            3.0   2.0           4.0                 5.0           3.0  \n",
       "6            2.0   2.0           1.0                 4.0           1.0  \n",
       "7            2.0   1.0           3.0                 3.0           3.0  \n",
       "\n",
       "[5 rows x 56 columns]"
      ]
     },
     "execution_count": 36,
     "metadata": {},
     "output_type": "execute_result"
    }
   ],
   "source": [
    "print len(nerdy_wide_pv.index.unique())\n",
    "nerdy_wide_pv.dropna(inplace=True)\n",
    "print nerdy_wide_pv.shape\n",
    "print len(nerdy_wide_pv.index.unique())\n",
    "\n",
    "nerdy_wide_pv.head()"
   ]
  },
  {
   "cell_type": "markdown",
   "metadata": {
    "slideshow": {
     "slide_type": "slide"
    }
   },
   "source": [
    "**Now, let's convert the `subject_id` index back into a column, and remove it from the index.**\n",
    "\n",
    "We can use the DataFrame function `.reset_index()` to move `subject_id` into a column and create a new index. We now have a DataFrame with the same format we loaded the original wide format data in previously. The only exception is that we still have the `variable` column label."
   ]
  },
  {
   "cell_type": "code",
   "execution_count": 40,
   "metadata": {
    "collapsed": true,
    "slideshow": {
     "slide_type": "-"
    }
   },
   "outputs": [],
   "source": [
    "nerdy_wide_flat = nerdy_wide_pv.reset_index()"
   ]
  },
  {
   "cell_type": "code",
   "execution_count": 43,
   "metadata": {
    "slideshow": {
     "slide_type": "-"
    }
   },
   "outputs": [
    {
     "data": {
      "text/html": [
       "<div>\n",
       "<style>\n",
       "    .dataframe thead tr:only-child th {\n",
       "        text-align: right;\n",
       "    }\n",
       "\n",
       "    .dataframe thead th {\n",
       "        text-align: left;\n",
       "    }\n",
       "\n",
       "    .dataframe tbody tr th {\n",
       "        vertical-align: top;\n",
       "    }\n",
       "</style>\n",
       "<table border=\"1\" class=\"dataframe\">\n",
       "  <thead>\n",
       "    <tr style=\"text-align: right;\">\n",
       "      <th>variable</th>\n",
       "      <th>subject_id</th>\n",
       "      <th>academic_over_social</th>\n",
       "      <th>age</th>\n",
       "      <th>anxious</th>\n",
       "      <th>bookish</th>\n",
       "      <th>books_over_parties</th>\n",
       "      <th>calm</th>\n",
       "      <th>collect_books</th>\n",
       "      <th>conventional</th>\n",
       "      <th>critical</th>\n",
       "      <th>...</th>\n",
       "      <th>religion</th>\n",
       "      <th>reserved</th>\n",
       "      <th>socially_awkward</th>\n",
       "      <th>strange_person</th>\n",
       "      <th>sympathetic</th>\n",
       "      <th>urban</th>\n",
       "      <th>voted</th>\n",
       "      <th>was_odd_child</th>\n",
       "      <th>watch_science_shows</th>\n",
       "      <th>writing_novel</th>\n",
       "    </tr>\n",
       "  </thead>\n",
       "  <tbody>\n",
       "    <tr>\n",
       "      <th>0</th>\n",
       "      <td>1</td>\n",
       "      <td>2.0</td>\n",
       "      <td>50.0</td>\n",
       "      <td>4.0</td>\n",
       "      <td>4.0</td>\n",
       "      <td>4.0</td>\n",
       "      <td>6.0</td>\n",
       "      <td>5.0</td>\n",
       "      <td>1.0</td>\n",
       "      <td>3.0</td>\n",
       "      <td>...</td>\n",
       "      <td>1.0</td>\n",
       "      <td>5.0</td>\n",
       "      <td>5.0</td>\n",
       "      <td>4.0</td>\n",
       "      <td>5.0</td>\n",
       "      <td>2.0</td>\n",
       "      <td>1.0</td>\n",
       "      <td>3.0</td>\n",
       "      <td>5.0</td>\n",
       "      <td>1.0</td>\n",
       "    </tr>\n",
       "    <tr>\n",
       "      <th>1</th>\n",
       "      <td>2</td>\n",
       "      <td>5.0</td>\n",
       "      <td>22.0</td>\n",
       "      <td>7.0</td>\n",
       "      <td>5.0</td>\n",
       "      <td>5.0</td>\n",
       "      <td>2.0</td>\n",
       "      <td>5.0</td>\n",
       "      <td>1.0</td>\n",
       "      <td>6.0</td>\n",
       "      <td>...</td>\n",
       "      <td>1.0</td>\n",
       "      <td>7.0</td>\n",
       "      <td>5.0</td>\n",
       "      <td>5.0</td>\n",
       "      <td>2.0</td>\n",
       "      <td>1.0</td>\n",
       "      <td>1.0</td>\n",
       "      <td>5.0</td>\n",
       "      <td>5.0</td>\n",
       "      <td>4.0</td>\n",
       "    </tr>\n",
       "    <tr>\n",
       "      <th>2</th>\n",
       "      <td>5</td>\n",
       "      <td>4.0</td>\n",
       "      <td>18.0</td>\n",
       "      <td>5.0</td>\n",
       "      <td>3.0</td>\n",
       "      <td>4.0</td>\n",
       "      <td>4.0</td>\n",
       "      <td>4.0</td>\n",
       "      <td>4.0</td>\n",
       "      <td>3.0</td>\n",
       "      <td>...</td>\n",
       "      <td>1.0</td>\n",
       "      <td>5.0</td>\n",
       "      <td>4.0</td>\n",
       "      <td>5.0</td>\n",
       "      <td>4.0</td>\n",
       "      <td>3.0</td>\n",
       "      <td>2.0</td>\n",
       "      <td>4.0</td>\n",
       "      <td>5.0</td>\n",
       "      <td>3.0</td>\n",
       "    </tr>\n",
       "    <tr>\n",
       "      <th>3</th>\n",
       "      <td>6</td>\n",
       "      <td>4.0</td>\n",
       "      <td>18.0</td>\n",
       "      <td>1.0</td>\n",
       "      <td>4.0</td>\n",
       "      <td>5.0</td>\n",
       "      <td>6.0</td>\n",
       "      <td>5.0</td>\n",
       "      <td>1.0</td>\n",
       "      <td>1.0</td>\n",
       "      <td>...</td>\n",
       "      <td>1.0</td>\n",
       "      <td>5.0</td>\n",
       "      <td>5.0</td>\n",
       "      <td>5.0</td>\n",
       "      <td>5.0</td>\n",
       "      <td>2.0</td>\n",
       "      <td>2.0</td>\n",
       "      <td>1.0</td>\n",
       "      <td>4.0</td>\n",
       "      <td>1.0</td>\n",
       "    </tr>\n",
       "    <tr>\n",
       "      <th>4</th>\n",
       "      <td>7</td>\n",
       "      <td>3.0</td>\n",
       "      <td>21.0</td>\n",
       "      <td>7.0</td>\n",
       "      <td>3.0</td>\n",
       "      <td>5.0</td>\n",
       "      <td>1.0</td>\n",
       "      <td>5.0</td>\n",
       "      <td>4.0</td>\n",
       "      <td>6.0</td>\n",
       "      <td>...</td>\n",
       "      <td>12.0</td>\n",
       "      <td>5.0</td>\n",
       "      <td>5.0</td>\n",
       "      <td>5.0</td>\n",
       "      <td>6.0</td>\n",
       "      <td>2.0</td>\n",
       "      <td>1.0</td>\n",
       "      <td>3.0</td>\n",
       "      <td>3.0</td>\n",
       "      <td>3.0</td>\n",
       "    </tr>\n",
       "  </tbody>\n",
       "</table>\n",
       "<p>5 rows × 57 columns</p>\n",
       "</div>"
      ],
      "text/plain": [
       "variable  subject_id academic_over_social   age anxious bookish  \\\n",
       "0                  1                  2.0  50.0     4.0     4.0   \n",
       "1                  2                  5.0  22.0     7.0     5.0   \n",
       "2                  5                  4.0  18.0     5.0     3.0   \n",
       "3                  6                  4.0  18.0     1.0     4.0   \n",
       "4                  7                  3.0  21.0     7.0     3.0   \n",
       "\n",
       "variable books_over_parties calm collect_books conventional critical  \\\n",
       "0                       4.0  6.0           5.0          1.0      3.0   \n",
       "1                       5.0  2.0           5.0          1.0      6.0   \n",
       "2                       4.0  4.0           4.0          4.0      3.0   \n",
       "3                       5.0  6.0           5.0          1.0      1.0   \n",
       "4                       5.0  1.0           5.0          4.0      6.0   \n",
       "\n",
       "variable      ...      religion reserved socially_awkward strange_person  \\\n",
       "0             ...           1.0      5.0              5.0            4.0   \n",
       "1             ...           1.0      7.0              5.0            5.0   \n",
       "2             ...           1.0      5.0              4.0            5.0   \n",
       "3             ...           1.0      5.0              5.0            5.0   \n",
       "4             ...          12.0      5.0              5.0            5.0   \n",
       "\n",
       "variable sympathetic urban voted was_odd_child watch_science_shows  \\\n",
       "0                5.0   2.0   1.0           3.0                 5.0   \n",
       "1                2.0   1.0   1.0           5.0                 5.0   \n",
       "2                4.0   3.0   2.0           4.0                 5.0   \n",
       "3                5.0   2.0   2.0           1.0                 4.0   \n",
       "4                6.0   2.0   1.0           3.0                 3.0   \n",
       "\n",
       "variable writing_novel  \n",
       "0                  1.0  \n",
       "1                  4.0  \n",
       "2                  3.0  \n",
       "3                  1.0  \n",
       "4                  3.0  \n",
       "\n",
       "[5 rows x 57 columns]"
      ]
     },
     "execution_count": 43,
     "metadata": {},
     "output_type": "execute_result"
    }
   ],
   "source": [
    "nerdy_wide_flat.head()"
   ]
  },
  {
   "cell_type": "code",
   "execution_count": 45,
   "metadata": {
    "slideshow": {
     "slide_type": "-"
    }
   },
   "outputs": [
    {
     "data": {
      "text/plain": [
       "Index([u'subject_id', u'academic_over_social', u'age', u'anxious', u'bookish',\n",
       "       u'books_over_parties', u'calm', u'collect_books', u'conventional',\n",
       "       u'critical', u'dependable', u'diagnosed_autistic', u'disorganized',\n",
       "       u'education', u'engnat', u'enjoy_learning', u'excited_about_research',\n",
       "       u'extraverted', u'familysize', u'gender', u'hand',\n",
       "       u'hobbies_over_people', u'in_advanced_classes',\n",
       "       u'intelligence_over_appearance', u'interested_science',\n",
       "       u'introspective', u'libraries_over_publicspace', u'like_dry_topics',\n",
       "       u'like_hard_material', u'like_science_fiction', u'like_superheroes',\n",
       "       u'major', u'married', u'online_over_inperson', u'opennness',\n",
       "       u'play_many_videogames', u'playes_rpgs', u'prefer_fictional_people',\n",
       "       u'race_arab', u'race_asian', u'race_black', u'race_hispanic',\n",
       "       u'race_native_american', u'race_native_austrailian', u'race_nerdy',\n",
       "       u'race_white', u'read_tech_reports', u'religion', u'reserved',\n",
       "       u'socially_awkward', u'strange_person', u'sympathetic', u'urban',\n",
       "       u'voted', u'was_odd_child', u'watch_science_shows', u'writing_novel'],\n",
       "      dtype='object', name=u'variable')"
      ]
     },
     "execution_count": 45,
     "metadata": {},
     "output_type": "execute_result"
    }
   ],
   "source": [
    "nerdy_wide_flat.columns"
   ]
  },
  {
   "cell_type": "markdown",
   "metadata": {
    "slideshow": {
     "slide_type": "slide"
    }
   },
   "source": [
    "**Remove the column label.**\n",
    "\n",
    "You can remove the column label (which can be confusing during print statements) by setting the `.columns.name` attribute to `None`."
   ]
  },
  {
   "cell_type": "code",
   "execution_count": 19,
   "metadata": {
    "slideshow": {
     "slide_type": "fragment"
    }
   },
   "outputs": [
    {
     "data": {
      "text/html": [
       "<div>\n",
       "<style>\n",
       "    .dataframe thead tr:only-child th {\n",
       "        text-align: right;\n",
       "    }\n",
       "\n",
       "    .dataframe thead th {\n",
       "        text-align: left;\n",
       "    }\n",
       "\n",
       "    .dataframe tbody tr th {\n",
       "        vertical-align: top;\n",
       "    }\n",
       "</style>\n",
       "<table border=\"1\" class=\"dataframe\">\n",
       "  <thead>\n",
       "    <tr style=\"text-align: right;\">\n",
       "      <th></th>\n",
       "      <th>subject_id</th>\n",
       "      <th>academic_over_social</th>\n",
       "      <th>age</th>\n",
       "      <th>anxious</th>\n",
       "      <th>bookish</th>\n",
       "      <th>books_over_parties</th>\n",
       "      <th>calm</th>\n",
       "      <th>collect_books</th>\n",
       "      <th>conventional</th>\n",
       "      <th>critical</th>\n",
       "      <th>...</th>\n",
       "      <th>religion</th>\n",
       "      <th>reserved</th>\n",
       "      <th>socially_awkward</th>\n",
       "      <th>strange_person</th>\n",
       "      <th>sympathetic</th>\n",
       "      <th>urban</th>\n",
       "      <th>voted</th>\n",
       "      <th>was_odd_child</th>\n",
       "      <th>watch_science_shows</th>\n",
       "      <th>writing_novel</th>\n",
       "    </tr>\n",
       "  </thead>\n",
       "  <tbody>\n",
       "    <tr>\n",
       "      <th>0</th>\n",
       "      <td>1</td>\n",
       "      <td>2.0</td>\n",
       "      <td>50.0</td>\n",
       "      <td>4.0</td>\n",
       "      <td>4.0</td>\n",
       "      <td>4.0</td>\n",
       "      <td>6.0</td>\n",
       "      <td>5.0</td>\n",
       "      <td>1.0</td>\n",
       "      <td>3.0</td>\n",
       "      <td>...</td>\n",
       "      <td>1.0</td>\n",
       "      <td>5.0</td>\n",
       "      <td>5.0</td>\n",
       "      <td>4.0</td>\n",
       "      <td>5.0</td>\n",
       "      <td>2.0</td>\n",
       "      <td>1.0</td>\n",
       "      <td>3.0</td>\n",
       "      <td>5.0</td>\n",
       "      <td>1.0</td>\n",
       "    </tr>\n",
       "    <tr>\n",
       "      <th>1</th>\n",
       "      <td>2</td>\n",
       "      <td>5.0</td>\n",
       "      <td>22.0</td>\n",
       "      <td>7.0</td>\n",
       "      <td>5.0</td>\n",
       "      <td>5.0</td>\n",
       "      <td>2.0</td>\n",
       "      <td>5.0</td>\n",
       "      <td>1.0</td>\n",
       "      <td>6.0</td>\n",
       "      <td>...</td>\n",
       "      <td>1.0</td>\n",
       "      <td>7.0</td>\n",
       "      <td>5.0</td>\n",
       "      <td>5.0</td>\n",
       "      <td>2.0</td>\n",
       "      <td>1.0</td>\n",
       "      <td>1.0</td>\n",
       "      <td>5.0</td>\n",
       "      <td>5.0</td>\n",
       "      <td>4.0</td>\n",
       "    </tr>\n",
       "  </tbody>\n",
       "</table>\n",
       "<p>2 rows × 57 columns</p>\n",
       "</div>"
      ],
      "text/plain": [
       "   subject_id academic_over_social   age anxious bookish books_over_parties  \\\n",
       "0           1                  2.0  50.0     4.0     4.0                4.0   \n",
       "1           2                  5.0  22.0     7.0     5.0                5.0   \n",
       "\n",
       "  calm collect_books conventional critical      ...      religion reserved  \\\n",
       "0  6.0           5.0          1.0      3.0      ...           1.0      5.0   \n",
       "1  2.0           5.0          1.0      6.0      ...           1.0      7.0   \n",
       "\n",
       "  socially_awkward strange_person sympathetic urban voted was_odd_child  \\\n",
       "0              5.0            4.0         5.0   2.0   1.0           3.0   \n",
       "1              5.0            5.0         2.0   1.0   1.0           5.0   \n",
       "\n",
       "  watch_science_shows writing_novel  \n",
       "0                 5.0           1.0  \n",
       "1                 5.0           4.0  \n",
       "\n",
       "[2 rows x 57 columns]"
      ]
     },
     "execution_count": 19,
     "metadata": {},
     "output_type": "execute_result"
    }
   ],
   "source": [
    "nerdy_wide_flat.columns.name = None\n",
    "nerdy_wide_flat.head(2)"
   ]
  },
  {
   "cell_type": "markdown",
   "metadata": {
    "slideshow": {
     "slide_type": "-"
    }
   },
   "source": [
    "Now we match the original wide format."
   ]
  },
  {
   "cell_type": "markdown",
   "metadata": {
    "slideshow": {
     "slide_type": "slide"
    }
   },
   "source": [
    "### Now let's do wide to long... "
   ]
  },
  {
   "cell_type": "markdown",
   "metadata": {
    "slideshow": {
     "slide_type": "slide"
    }
   },
   "source": [
    "<a id='melt'></a>\n",
    "\n",
    "### Using pandas' `.melt()` Function: Wide to Long Format\n",
    "\n",
    "---\n",
    "\n",
    "**`.melt()`** is a function that essentially performs the inverse of `.pivot_table()` on DataFrames.\n",
    "\n",
    "`.melt()` takes a DataFrame as its first argument. Additional arguments typically used with this function are:\n",
    "\n",
    "- **`id_vars`**: The column or columns that will be ID variables. ID variables contain data points specified by the `variable` and `value` columns.\n",
    "- **`value_vars`**: A list that specifies which columns should be converted into single `value` and `variable` columns.\n",
    "- **`var_name`**: The header name of the `variable` column (default='variable').\n",
    "- **`value_name`**: The header name of the `value` column (default='value').\n",
    "\n",
    "**To keep it simple, let's first, subset the wide format data into just columns: `['subject_id','anxious','booking','calm','major']`.**\n"
   ]
  },
  {
   "cell_type": "code",
   "execution_count": 46,
   "metadata": {
    "slideshow": {
     "slide_type": "slide"
    }
   },
   "outputs": [
    {
     "data": {
      "text/html": [
       "<div>\n",
       "<style>\n",
       "    .dataframe thead tr:only-child th {\n",
       "        text-align: right;\n",
       "    }\n",
       "\n",
       "    .dataframe thead th {\n",
       "        text-align: left;\n",
       "    }\n",
       "\n",
       "    .dataframe tbody tr th {\n",
       "        vertical-align: top;\n",
       "    }\n",
       "</style>\n",
       "<table border=\"1\" class=\"dataframe\">\n",
       "  <thead>\n",
       "    <tr style=\"text-align: right;\">\n",
       "      <th>variable</th>\n",
       "      <th>subject_id</th>\n",
       "      <th>major</th>\n",
       "      <th>anxious</th>\n",
       "      <th>bookish</th>\n",
       "      <th>calm</th>\n",
       "    </tr>\n",
       "  </thead>\n",
       "  <tbody>\n",
       "    <tr>\n",
       "      <th>0</th>\n",
       "      <td>1</td>\n",
       "      <td>biophysics</td>\n",
       "      <td>4.0</td>\n",
       "      <td>4.0</td>\n",
       "      <td>6.0</td>\n",
       "    </tr>\n",
       "    <tr>\n",
       "      <th>1</th>\n",
       "      <td>2</td>\n",
       "      <td>biology</td>\n",
       "      <td>7.0</td>\n",
       "      <td>5.0</td>\n",
       "      <td>2.0</td>\n",
       "    </tr>\n",
       "  </tbody>\n",
       "</table>\n",
       "</div>"
      ],
      "text/plain": [
       "variable  subject_id       major anxious bookish calm\n",
       "0                  1  biophysics     4.0     4.0  6.0\n",
       "1                  2     biology     7.0     5.0  2.0"
      ]
     },
     "execution_count": 46,
     "metadata": {},
     "output_type": "execute_result"
    }
   ],
   "source": [
    "nerdy_subset = nerdy_wide_flat[['subject_id','major','anxious','bookish','calm']]\n",
    "nerdy_subset.head(2)"
   ]
  },
  {
   "cell_type": "markdown",
   "metadata": {
    "slideshow": {
     "slide_type": "slide"
    }
   },
   "source": [
    "**Use `.melt()` on the subset with `id_vars=['subject_id','major']`.**\n",
    "\n",
    "Print out the shape of the data and the header. \n",
    "\n",
    "**Note**: Columns that are not `id_vars` become part of the `variable` and `value` columns."
   ]
  },
  {
   "cell_type": "code",
   "execution_count": 21,
   "metadata": {
    "slideshow": {
     "slide_type": "slide"
    }
   },
   "outputs": [
    {
     "name": "stdout",
     "output_type": "stream",
     "text": [
      "(700, 5) (2100, 4)\n"
     ]
    },
    {
     "data": {
      "text/html": [
       "<div>\n",
       "<style>\n",
       "    .dataframe thead tr:only-child th {\n",
       "        text-align: right;\n",
       "    }\n",
       "\n",
       "    .dataframe thead th {\n",
       "        text-align: left;\n",
       "    }\n",
       "\n",
       "    .dataframe tbody tr th {\n",
       "        vertical-align: top;\n",
       "    }\n",
       "</style>\n",
       "<table border=\"1\" class=\"dataframe\">\n",
       "  <thead>\n",
       "    <tr style=\"text-align: right;\">\n",
       "      <th></th>\n",
       "      <th>subject_id</th>\n",
       "      <th>major</th>\n",
       "      <th>variable</th>\n",
       "      <th>value</th>\n",
       "    </tr>\n",
       "  </thead>\n",
       "  <tbody>\n",
       "    <tr>\n",
       "      <th>0</th>\n",
       "      <td>1</td>\n",
       "      <td>biophysics</td>\n",
       "      <td>anxious</td>\n",
       "      <td>4.0</td>\n",
       "    </tr>\n",
       "    <tr>\n",
       "      <th>1</th>\n",
       "      <td>2</td>\n",
       "      <td>biology</td>\n",
       "      <td>anxious</td>\n",
       "      <td>7.0</td>\n",
       "    </tr>\n",
       "    <tr>\n",
       "      <th>2</th>\n",
       "      <td>5</td>\n",
       "      <td>Geology</td>\n",
       "      <td>anxious</td>\n",
       "      <td>5.0</td>\n",
       "    </tr>\n",
       "    <tr>\n",
       "      <th>3</th>\n",
       "      <td>6</td>\n",
       "      <td>unknown</td>\n",
       "      <td>anxious</td>\n",
       "      <td>1.0</td>\n",
       "    </tr>\n",
       "  </tbody>\n",
       "</table>\n",
       "</div>"
      ],
      "text/plain": [
       "   subject_id       major variable value\n",
       "0           1  biophysics  anxious   4.0\n",
       "1           2     biology  anxious   7.0\n",
       "2           5     Geology  anxious   5.0\n",
       "3           6     unknown  anxious   1.0"
      ]
     },
     "execution_count": 21,
     "metadata": {},
     "output_type": "execute_result"
    }
   ],
   "source": [
    "nerdy_sub_long = pd.melt(nerdy_subset, id_vars=['subject_id','major'])\n",
    "print nerdy_subset.shape, nerdy_sub_long.shape\n",
    "nerdy_sub_long.head(4)"
   ]
  },
  {
   "cell_type": "markdown",
   "metadata": {
    "slideshow": {
     "slide_type": "slide"
    }
   },
   "source": [
    "So, if we don't specify `major` as an `id_var`, it will end up in the `variable` column."
   ]
  },
  {
   "cell_type": "code",
   "execution_count": 22,
   "metadata": {
    "slideshow": {
     "slide_type": "fragment"
    }
   },
   "outputs": [
    {
     "name": "stdout",
     "output_type": "stream",
     "text": [
      "(700, 5) (2800, 3)\n"
     ]
    },
    {
     "data": {
      "text/html": [
       "<div>\n",
       "<style>\n",
       "    .dataframe thead tr:only-child th {\n",
       "        text-align: right;\n",
       "    }\n",
       "\n",
       "    .dataframe thead th {\n",
       "        text-align: left;\n",
       "    }\n",
       "\n",
       "    .dataframe tbody tr th {\n",
       "        vertical-align: top;\n",
       "    }\n",
       "</style>\n",
       "<table border=\"1\" class=\"dataframe\">\n",
       "  <thead>\n",
       "    <tr style=\"text-align: right;\">\n",
       "      <th></th>\n",
       "      <th>subject_id</th>\n",
       "      <th>variable</th>\n",
       "      <th>value</th>\n",
       "    </tr>\n",
       "  </thead>\n",
       "  <tbody>\n",
       "    <tr>\n",
       "      <th>0</th>\n",
       "      <td>1</td>\n",
       "      <td>major</td>\n",
       "      <td>biophysics</td>\n",
       "    </tr>\n",
       "    <tr>\n",
       "      <th>1</th>\n",
       "      <td>2</td>\n",
       "      <td>major</td>\n",
       "      <td>biology</td>\n",
       "    </tr>\n",
       "    <tr>\n",
       "      <th>2</th>\n",
       "      <td>5</td>\n",
       "      <td>major</td>\n",
       "      <td>Geology</td>\n",
       "    </tr>\n",
       "    <tr>\n",
       "      <th>3</th>\n",
       "      <td>6</td>\n",
       "      <td>major</td>\n",
       "      <td>unknown</td>\n",
       "    </tr>\n",
       "  </tbody>\n",
       "</table>\n",
       "</div>"
      ],
      "text/plain": [
       "   subject_id variable       value\n",
       "0           1    major  biophysics\n",
       "1           2    major     biology\n",
       "2           5    major     Geology\n",
       "3           6    major     unknown"
      ]
     },
     "execution_count": 22,
     "metadata": {},
     "output_type": "execute_result"
    }
   ],
   "source": [
    "nerdy_sub_long = pd.melt(nerdy_subset, id_vars='subject_id')\n",
    "print nerdy_subset.shape, nerdy_sub_long.shape\n",
    "nerdy_sub_long.head(4)"
   ]
  },
  {
   "cell_type": "markdown",
   "metadata": {
    "slideshow": {
     "slide_type": "slide"
    }
   },
   "source": [
    "You can achieve the same result without having to subset the DataFrame first by simply specifying the `value_vars` keyword argument. The output DataFrame will then only contain the data specified in the `id_vars` and `value_vars` arguments.\n",
    "\n",
    "**Create the same DataFrame with `.melt()` on the full wide data set, but select the columns to use with the `value_vars` argument.**"
   ]
  },
  {
   "cell_type": "code",
   "execution_count": 23,
   "metadata": {
    "slideshow": {
     "slide_type": "fragment"
    }
   },
   "outputs": [
    {
     "name": "stdout",
     "output_type": "stream",
     "text": [
      "(700, 57) (1400, 4)\n",
      "['bookish' 'calm']\n"
     ]
    },
    {
     "data": {
      "text/html": [
       "<div>\n",
       "<style>\n",
       "    .dataframe thead tr:only-child th {\n",
       "        text-align: right;\n",
       "    }\n",
       "\n",
       "    .dataframe thead th {\n",
       "        text-align: left;\n",
       "    }\n",
       "\n",
       "    .dataframe tbody tr th {\n",
       "        vertical-align: top;\n",
       "    }\n",
       "</style>\n",
       "<table border=\"1\" class=\"dataframe\">\n",
       "  <thead>\n",
       "    <tr style=\"text-align: right;\">\n",
       "      <th></th>\n",
       "      <th>subject_id</th>\n",
       "      <th>major</th>\n",
       "      <th>variable</th>\n",
       "      <th>value</th>\n",
       "    </tr>\n",
       "  </thead>\n",
       "  <tbody>\n",
       "    <tr>\n",
       "      <th>0</th>\n",
       "      <td>1</td>\n",
       "      <td>biophysics</td>\n",
       "      <td>bookish</td>\n",
       "      <td>4.0</td>\n",
       "    </tr>\n",
       "    <tr>\n",
       "      <th>1</th>\n",
       "      <td>2</td>\n",
       "      <td>biology</td>\n",
       "      <td>bookish</td>\n",
       "      <td>5.0</td>\n",
       "    </tr>\n",
       "    <tr>\n",
       "      <th>2</th>\n",
       "      <td>5</td>\n",
       "      <td>Geology</td>\n",
       "      <td>bookish</td>\n",
       "      <td>3.0</td>\n",
       "    </tr>\n",
       "    <tr>\n",
       "      <th>3</th>\n",
       "      <td>6</td>\n",
       "      <td>unknown</td>\n",
       "      <td>bookish</td>\n",
       "      <td>4.0</td>\n",
       "    </tr>\n",
       "  </tbody>\n",
       "</table>\n",
       "</div>"
      ],
      "text/plain": [
       "   subject_id       major variable value\n",
       "0           1  biophysics  bookish   4.0\n",
       "1           2     biology  bookish   5.0\n",
       "2           5     Geology  bookish   3.0\n",
       "3           6     unknown  bookish   4.0"
      ]
     },
     "execution_count": 23,
     "metadata": {},
     "output_type": "execute_result"
    }
   ],
   "source": [
    "# With two `value_vars`:\n",
    "nerdy_sub_long = pd.melt(nerdy_wide_flat, id_vars=['subject_id','major'], \n",
    "                         value_vars=['bookish','calm'])\n",
    "print nerdy_wide_flat.shape, nerdy_sub_long.shape\n",
    "print nerdy_sub_long['variable'].unique()\n",
    "nerdy_sub_long.head(4)"
   ]
  },
  {
   "cell_type": "markdown",
   "metadata": {
    "slideshow": {
     "slide_type": "slide"
    }
   },
   "source": [
    "If you don't specify any `value_vars`, all the variables are used"
   ]
  },
  {
   "cell_type": "code",
   "execution_count": 24,
   "metadata": {
    "slideshow": {
     "slide_type": "fragment"
    }
   },
   "outputs": [
    {
     "name": "stdout",
     "output_type": "stream",
     "text": [
      "(700, 57) (1400, 4)\n"
     ]
    },
    {
     "data": {
      "text/html": [
       "<div>\n",
       "<style>\n",
       "    .dataframe thead tr:only-child th {\n",
       "        text-align: right;\n",
       "    }\n",
       "\n",
       "    .dataframe thead th {\n",
       "        text-align: left;\n",
       "    }\n",
       "\n",
       "    .dataframe tbody tr th {\n",
       "        vertical-align: top;\n",
       "    }\n",
       "</style>\n",
       "<table border=\"1\" class=\"dataframe\">\n",
       "  <thead>\n",
       "    <tr style=\"text-align: right;\">\n",
       "      <th></th>\n",
       "      <th>subject_id</th>\n",
       "      <th>major</th>\n",
       "      <th>variable</th>\n",
       "      <th>value</th>\n",
       "    </tr>\n",
       "  </thead>\n",
       "  <tbody>\n",
       "    <tr>\n",
       "      <th>0</th>\n",
       "      <td>1</td>\n",
       "      <td>biophysics</td>\n",
       "      <td>academic_over_social</td>\n",
       "      <td>2.0</td>\n",
       "    </tr>\n",
       "    <tr>\n",
       "      <th>1</th>\n",
       "      <td>2</td>\n",
       "      <td>biology</td>\n",
       "      <td>academic_over_social</td>\n",
       "      <td>5.0</td>\n",
       "    </tr>\n",
       "    <tr>\n",
       "      <th>2</th>\n",
       "      <td>5</td>\n",
       "      <td>Geology</td>\n",
       "      <td>academic_over_social</td>\n",
       "      <td>4.0</td>\n",
       "    </tr>\n",
       "    <tr>\n",
       "      <th>3</th>\n",
       "      <td>6</td>\n",
       "      <td>unknown</td>\n",
       "      <td>academic_over_social</td>\n",
       "      <td>4.0</td>\n",
       "    </tr>\n",
       "  </tbody>\n",
       "</table>\n",
       "</div>"
      ],
      "text/plain": [
       "   subject_id       major              variable value\n",
       "0           1  biophysics  academic_over_social   2.0\n",
       "1           2     biology  academic_over_social   5.0\n",
       "2           5     Geology  academic_over_social   4.0\n",
       "3           6     unknown  academic_over_social   4.0"
      ]
     },
     "execution_count": 24,
     "metadata": {},
     "output_type": "execute_result"
    }
   ],
   "source": [
    "# With all `value_vars`:\n",
    "nerdy_sub_long_big = pd.melt(nerdy_wide_flat, id_vars=['subject_id','major'])\n",
    "print nerdy_wide_flat.shape, nerdy_sub_long.shape\n",
    "nerdy_sub_long_big.head(4)"
   ]
  },
  {
   "cell_type": "code",
   "execution_count": 25,
   "metadata": {
    "slideshow": {
     "slide_type": "-"
    }
   },
   "outputs": [
    {
     "data": {
      "text/plain": [
       "array(['academic_over_social', 'age', 'anxious', 'bookish',\n",
       "       'books_over_parties', 'calm', 'collect_books', 'conventional',\n",
       "       'critical', 'dependable', 'diagnosed_autistic', 'disorganized',\n",
       "       'education', 'engnat', 'enjoy_learning', 'excited_about_research',\n",
       "       'extraverted', 'familysize', 'gender', 'hand',\n",
       "       'hobbies_over_people', 'in_advanced_classes',\n",
       "       'intelligence_over_appearance', 'interested_science',\n",
       "       'introspective', 'libraries_over_publicspace', 'like_dry_topics',\n",
       "       'like_hard_material', 'like_science_fiction', 'like_superheroes',\n",
       "       'married', 'online_over_inperson', 'opennness',\n",
       "       'play_many_videogames', 'playes_rpgs', 'prefer_fictional_people',\n",
       "       'race_arab', 'race_asian', 'race_black', 'race_hispanic',\n",
       "       'race_native_american', 'race_native_austrailian', 'race_nerdy',\n",
       "       'race_white', 'read_tech_reports', 'religion', 'reserved',\n",
       "       'socially_awkward', 'strange_person', 'sympathetic', 'urban',\n",
       "       'voted', 'was_odd_child', 'watch_science_shows', 'writing_novel'], dtype=object)"
      ]
     },
     "execution_count": 25,
     "metadata": {},
     "output_type": "execute_result"
    }
   ],
   "source": [
    "nerdy_sub_long_big['variable'].unique()"
   ]
  },
  {
   "cell_type": "markdown",
   "metadata": {
    "slideshow": {
     "slide_type": "slide"
    }
   },
   "source": [
    "## More uses for pivot_tables\n",
    "\n",
    "Pivot_tables are just used for converting long to wide.  \n",
    "\n",
    "They are also used much like `group_by` to summarise data by groups."
   ]
  },
  {
   "cell_type": "markdown",
   "metadata": {},
   "source": [
    "<a id='pivot_table_summarizing'></a>\n",
    "\n",
    "### Summarizing Your Data With  `.pivot_table()` and Aggregate Functions\n",
    "\n",
    "---\n",
    "\n",
    "For those of you who have experience with Excel, `pandas`' `.pivot_table()` accomplishes the same thing. It's more powerful but harder to use than the spreadsheet version.\n",
    "\n",
    "`.pivot_table()` can take in a variable, value, and index to group by and apply aggregate functions to summarize the data. \n",
    "\n",
    "**Note**: Be careful that your index variable is not pulling out unique rows (For example, `subject_id` by variable would only have one value to send into the aggregate functions).\n",
    "\n",
    "Below, I am calling the `.pivot_table()` function with:\n",
    "\n",
    "- The long format data as the first argument.\n",
    "- `variable` specified as the columns that indicate the variable names (groups).\n",
    "- `value` specified as the column that contains the data per variable.\n",
    "- `major` as the index; the rows will be grouped by `major`.\n",
    "- `np.mean`, `np.median`, `np.std`, and `len` as aggregate functions. These will be calculated for each `major-by-variable` group.\n",
    "- A `fill_value` of `np.nan` for cells in the output table that have no data.\n",
    "\n"
   ]
  },
  {
   "cell_type": "code",
   "execution_count": 26,
   "metadata": {
    "slideshow": {
     "slide_type": "slide"
    }
   },
   "outputs": [
    {
     "ename": "DataError",
     "evalue": "No numeric types to aggregate",
     "output_type": "error",
     "traceback": [
      "\u001b[0;31m---------------------------------------------------------------------------\u001b[0m",
      "\u001b[0;31mDataError\u001b[0m                                 Traceback (most recent call last)",
      "\u001b[0;32m<ipython-input-26-d38546672def>\u001b[0m in \u001b[0;36m<module>\u001b[0;34m()\u001b[0m\n\u001b[1;32m      1\u001b[0m nerdy_major_summary = pd.pivot_table(nerdy_sub_long, columns=['variable'], values='value',\n\u001b[1;32m      2\u001b[0m                                      \u001b[0mindex\u001b[0m\u001b[0;34m=\u001b[0m\u001b[0;34m[\u001b[0m\u001b[0;34m'major'\u001b[0m\u001b[0;34m]\u001b[0m\u001b[0;34m,\u001b[0m \u001b[0maggfunc\u001b[0m\u001b[0;34m=\u001b[0m\u001b[0;34m[\u001b[0m\u001b[0mnp\u001b[0m\u001b[0;34m.\u001b[0m\u001b[0mmean\u001b[0m\u001b[0;34m,\u001b[0m \u001b[0mnp\u001b[0m\u001b[0;34m.\u001b[0m\u001b[0mmedian\u001b[0m\u001b[0;34m,\u001b[0m \u001b[0mnp\u001b[0m\u001b[0;34m.\u001b[0m\u001b[0mstd\u001b[0m\u001b[0;34m,\u001b[0m \u001b[0mlen\u001b[0m\u001b[0;34m]\u001b[0m\u001b[0;34m,\u001b[0m\u001b[0;34m\u001b[0m\u001b[0m\n\u001b[0;32m----> 3\u001b[0;31m                                      fill_value=np.nan)\n\u001b[0m",
      "\u001b[0;32m/Users/phillippa/anaconda/lib/python2.7/site-packages/pandas/core/reshape/pivot.pyc\u001b[0m in \u001b[0;36mpivot_table\u001b[0;34m(data, values, index, columns, aggfunc, fill_value, margins, dropna, margins_name)\u001b[0m\n\u001b[1;32m     91\u001b[0m                                 \u001b[0mcolumns\u001b[0m\u001b[0;34m=\u001b[0m\u001b[0mcolumns\u001b[0m\u001b[0;34m,\u001b[0m\u001b[0;34m\u001b[0m\u001b[0m\n\u001b[1;32m     92\u001b[0m                                 \u001b[0mfill_value\u001b[0m\u001b[0;34m=\u001b[0m\u001b[0mfill_value\u001b[0m\u001b[0;34m,\u001b[0m \u001b[0maggfunc\u001b[0m\u001b[0;34m=\u001b[0m\u001b[0mfunc\u001b[0m\u001b[0;34m,\u001b[0m\u001b[0;34m\u001b[0m\u001b[0m\n\u001b[0;32m---> 93\u001b[0;31m                                 margins=margins, margins_name=margins_name)\n\u001b[0m\u001b[1;32m     94\u001b[0m             \u001b[0mpieces\u001b[0m\u001b[0;34m.\u001b[0m\u001b[0mappend\u001b[0m\u001b[0;34m(\u001b[0m\u001b[0mtable\u001b[0m\u001b[0;34m)\u001b[0m\u001b[0;34m\u001b[0m\u001b[0m\n\u001b[1;32m     95\u001b[0m             \u001b[0mkeys\u001b[0m\u001b[0;34m.\u001b[0m\u001b[0mappend\u001b[0m\u001b[0;34m(\u001b[0m\u001b[0mfunc\u001b[0m\u001b[0;34m.\u001b[0m\u001b[0m__name__\u001b[0m\u001b[0;34m)\u001b[0m\u001b[0;34m\u001b[0m\u001b[0m\n",
      "\u001b[0;32m/Users/phillippa/anaconda/lib/python2.7/site-packages/pandas/core/reshape/pivot.pyc\u001b[0m in \u001b[0;36mpivot_table\u001b[0;34m(data, values, index, columns, aggfunc, fill_value, margins, dropna, margins_name)\u001b[0m\n\u001b[1;32m    134\u001b[0m \u001b[0;34m\u001b[0m\u001b[0m\n\u001b[1;32m    135\u001b[0m     \u001b[0mgrouped\u001b[0m \u001b[0;34m=\u001b[0m \u001b[0mdata\u001b[0m\u001b[0;34m.\u001b[0m\u001b[0mgroupby\u001b[0m\u001b[0;34m(\u001b[0m\u001b[0mkeys\u001b[0m\u001b[0;34m)\u001b[0m\u001b[0;34m\u001b[0m\u001b[0m\n\u001b[0;32m--> 136\u001b[0;31m     \u001b[0magged\u001b[0m \u001b[0;34m=\u001b[0m \u001b[0mgrouped\u001b[0m\u001b[0;34m.\u001b[0m\u001b[0magg\u001b[0m\u001b[0;34m(\u001b[0m\u001b[0maggfunc\u001b[0m\u001b[0;34m)\u001b[0m\u001b[0;34m\u001b[0m\u001b[0m\n\u001b[0m\u001b[1;32m    137\u001b[0m \u001b[0;34m\u001b[0m\u001b[0m\n\u001b[1;32m    138\u001b[0m     \u001b[0mtable\u001b[0m \u001b[0;34m=\u001b[0m \u001b[0magged\u001b[0m\u001b[0;34m\u001b[0m\u001b[0m\n",
      "\u001b[0;32m/Users/phillippa/anaconda/lib/python2.7/site-packages/pandas/core/groupby.pyc\u001b[0m in \u001b[0;36maggregate\u001b[0;34m(self, arg, *args, **kwargs)\u001b[0m\n\u001b[1;32m   3959\u001b[0m         versionadded=''))\n\u001b[1;32m   3960\u001b[0m     \u001b[0;32mdef\u001b[0m \u001b[0maggregate\u001b[0m\u001b[0;34m(\u001b[0m\u001b[0mself\u001b[0m\u001b[0;34m,\u001b[0m \u001b[0marg\u001b[0m\u001b[0;34m,\u001b[0m \u001b[0;34m*\u001b[0m\u001b[0margs\u001b[0m\u001b[0;34m,\u001b[0m \u001b[0;34m**\u001b[0m\u001b[0mkwargs\u001b[0m\u001b[0;34m)\u001b[0m\u001b[0;34m:\u001b[0m\u001b[0;34m\u001b[0m\u001b[0m\n\u001b[0;32m-> 3961\u001b[0;31m         \u001b[0;32mreturn\u001b[0m \u001b[0msuper\u001b[0m\u001b[0;34m(\u001b[0m\u001b[0mDataFrameGroupBy\u001b[0m\u001b[0;34m,\u001b[0m \u001b[0mself\u001b[0m\u001b[0;34m)\u001b[0m\u001b[0;34m.\u001b[0m\u001b[0maggregate\u001b[0m\u001b[0;34m(\u001b[0m\u001b[0marg\u001b[0m\u001b[0;34m,\u001b[0m \u001b[0;34m*\u001b[0m\u001b[0margs\u001b[0m\u001b[0;34m,\u001b[0m \u001b[0;34m**\u001b[0m\u001b[0mkwargs\u001b[0m\u001b[0;34m)\u001b[0m\u001b[0;34m\u001b[0m\u001b[0m\n\u001b[0m\u001b[1;32m   3962\u001b[0m \u001b[0;34m\u001b[0m\u001b[0m\n\u001b[1;32m   3963\u001b[0m     \u001b[0magg\u001b[0m \u001b[0;34m=\u001b[0m \u001b[0maggregate\u001b[0m\u001b[0;34m\u001b[0m\u001b[0m\n",
      "\u001b[0;32m/Users/phillippa/anaconda/lib/python2.7/site-packages/pandas/core/groupby.pyc\u001b[0m in \u001b[0;36maggregate\u001b[0;34m(self, arg, *args, **kwargs)\u001b[0m\n\u001b[1;32m   3391\u001b[0m \u001b[0;34m\u001b[0m\u001b[0m\n\u001b[1;32m   3392\u001b[0m         \u001b[0m_level\u001b[0m \u001b[0;34m=\u001b[0m \u001b[0mkwargs\u001b[0m\u001b[0;34m.\u001b[0m\u001b[0mpop\u001b[0m\u001b[0;34m(\u001b[0m\u001b[0;34m'_level'\u001b[0m\u001b[0;34m,\u001b[0m \u001b[0mNone\u001b[0m\u001b[0;34m)\u001b[0m\u001b[0;34m\u001b[0m\u001b[0m\n\u001b[0;32m-> 3393\u001b[0;31m         \u001b[0mresult\u001b[0m\u001b[0;34m,\u001b[0m \u001b[0mhow\u001b[0m \u001b[0;34m=\u001b[0m \u001b[0mself\u001b[0m\u001b[0;34m.\u001b[0m\u001b[0m_aggregate\u001b[0m\u001b[0;34m(\u001b[0m\u001b[0marg\u001b[0m\u001b[0;34m,\u001b[0m \u001b[0m_level\u001b[0m\u001b[0;34m=\u001b[0m\u001b[0m_level\u001b[0m\u001b[0;34m,\u001b[0m \u001b[0;34m*\u001b[0m\u001b[0margs\u001b[0m\u001b[0;34m,\u001b[0m \u001b[0;34m**\u001b[0m\u001b[0mkwargs\u001b[0m\u001b[0;34m)\u001b[0m\u001b[0;34m\u001b[0m\u001b[0m\n\u001b[0m\u001b[1;32m   3394\u001b[0m         \u001b[0;32mif\u001b[0m \u001b[0mhow\u001b[0m \u001b[0;32mis\u001b[0m \u001b[0mNone\u001b[0m\u001b[0;34m:\u001b[0m\u001b[0;34m\u001b[0m\u001b[0m\n\u001b[1;32m   3395\u001b[0m             \u001b[0;32mreturn\u001b[0m \u001b[0mresult\u001b[0m\u001b[0;34m\u001b[0m\u001b[0m\n",
      "\u001b[0;32m/Users/phillippa/anaconda/lib/python2.7/site-packages/pandas/core/base.pyc\u001b[0m in \u001b[0;36m_aggregate\u001b[0;34m(self, arg, *args, **kwargs)\u001b[0m\n\u001b[1;32m    630\u001b[0m         \u001b[0mf\u001b[0m \u001b[0;34m=\u001b[0m \u001b[0mself\u001b[0m\u001b[0;34m.\u001b[0m\u001b[0m_is_cython_func\u001b[0m\u001b[0;34m(\u001b[0m\u001b[0marg\u001b[0m\u001b[0;34m)\u001b[0m\u001b[0;34m\u001b[0m\u001b[0m\n\u001b[1;32m    631\u001b[0m         \u001b[0;32mif\u001b[0m \u001b[0mf\u001b[0m \u001b[0;32mand\u001b[0m \u001b[0;32mnot\u001b[0m \u001b[0margs\u001b[0m \u001b[0;32mand\u001b[0m \u001b[0;32mnot\u001b[0m \u001b[0mkwargs\u001b[0m\u001b[0;34m:\u001b[0m\u001b[0;34m\u001b[0m\u001b[0m\n\u001b[0;32m--> 632\u001b[0;31m             \u001b[0;32mreturn\u001b[0m \u001b[0mgetattr\u001b[0m\u001b[0;34m(\u001b[0m\u001b[0mself\u001b[0m\u001b[0;34m,\u001b[0m \u001b[0mf\u001b[0m\u001b[0;34m)\u001b[0m\u001b[0;34m(\u001b[0m\u001b[0;34m)\u001b[0m\u001b[0;34m,\u001b[0m \u001b[0mNone\u001b[0m\u001b[0;34m\u001b[0m\u001b[0m\n\u001b[0m\u001b[1;32m    633\u001b[0m \u001b[0;34m\u001b[0m\u001b[0m\n\u001b[1;32m    634\u001b[0m         \u001b[0;31m# caller can react\u001b[0m\u001b[0;34m\u001b[0m\u001b[0;34m\u001b[0m\u001b[0m\n",
      "\u001b[0;32m/Users/phillippa/anaconda/lib/python2.7/site-packages/pandas/core/groupby.pyc\u001b[0m in \u001b[0;36mmean\u001b[0;34m(self, *args, **kwargs)\u001b[0m\n\u001b[1;32m   1035\u001b[0m         \u001b[0mnv\u001b[0m\u001b[0;34m.\u001b[0m\u001b[0mvalidate_groupby_func\u001b[0m\u001b[0;34m(\u001b[0m\u001b[0;34m'mean'\u001b[0m\u001b[0;34m,\u001b[0m \u001b[0margs\u001b[0m\u001b[0;34m,\u001b[0m \u001b[0mkwargs\u001b[0m\u001b[0;34m,\u001b[0m \u001b[0;34m[\u001b[0m\u001b[0;34m'numeric_only'\u001b[0m\u001b[0;34m]\u001b[0m\u001b[0;34m)\u001b[0m\u001b[0;34m\u001b[0m\u001b[0m\n\u001b[1;32m   1036\u001b[0m         \u001b[0;32mtry\u001b[0m\u001b[0;34m:\u001b[0m\u001b[0;34m\u001b[0m\u001b[0m\n\u001b[0;32m-> 1037\u001b[0;31m             \u001b[0;32mreturn\u001b[0m \u001b[0mself\u001b[0m\u001b[0;34m.\u001b[0m\u001b[0m_cython_agg_general\u001b[0m\u001b[0;34m(\u001b[0m\u001b[0;34m'mean'\u001b[0m\u001b[0;34m,\u001b[0m \u001b[0;34m**\u001b[0m\u001b[0mkwargs\u001b[0m\u001b[0;34m)\u001b[0m\u001b[0;34m\u001b[0m\u001b[0m\n\u001b[0m\u001b[1;32m   1038\u001b[0m         \u001b[0;32mexcept\u001b[0m \u001b[0mGroupByError\u001b[0m\u001b[0;34m:\u001b[0m\u001b[0;34m\u001b[0m\u001b[0m\n\u001b[1;32m   1039\u001b[0m             \u001b[0;32mraise\u001b[0m\u001b[0;34m\u001b[0m\u001b[0m\n",
      "\u001b[0;32m/Users/phillippa/anaconda/lib/python2.7/site-packages/pandas/core/groupby.pyc\u001b[0m in \u001b[0;36m_cython_agg_general\u001b[0;34m(self, how, alt, numeric_only)\u001b[0m\n\u001b[1;32m   3279\u001b[0m     \u001b[0;32mdef\u001b[0m \u001b[0m_cython_agg_general\u001b[0m\u001b[0;34m(\u001b[0m\u001b[0mself\u001b[0m\u001b[0;34m,\u001b[0m \u001b[0mhow\u001b[0m\u001b[0;34m,\u001b[0m \u001b[0malt\u001b[0m\u001b[0;34m=\u001b[0m\u001b[0mNone\u001b[0m\u001b[0;34m,\u001b[0m \u001b[0mnumeric_only\u001b[0m\u001b[0;34m=\u001b[0m\u001b[0mTrue\u001b[0m\u001b[0;34m)\u001b[0m\u001b[0;34m:\u001b[0m\u001b[0;34m\u001b[0m\u001b[0m\n\u001b[1;32m   3280\u001b[0m         new_items, new_blocks = self._cython_agg_blocks(\n\u001b[0;32m-> 3281\u001b[0;31m             how, alt=alt, numeric_only=numeric_only)\n\u001b[0m\u001b[1;32m   3282\u001b[0m         \u001b[0;32mreturn\u001b[0m \u001b[0mself\u001b[0m\u001b[0;34m.\u001b[0m\u001b[0m_wrap_agged_blocks\u001b[0m\u001b[0;34m(\u001b[0m\u001b[0mnew_items\u001b[0m\u001b[0;34m,\u001b[0m \u001b[0mnew_blocks\u001b[0m\u001b[0;34m)\u001b[0m\u001b[0;34m\u001b[0m\u001b[0m\n\u001b[1;32m   3283\u001b[0m \u001b[0;34m\u001b[0m\u001b[0m\n",
      "\u001b[0;32m/Users/phillippa/anaconda/lib/python2.7/site-packages/pandas/core/groupby.pyc\u001b[0m in \u001b[0;36m_cython_agg_blocks\u001b[0;34m(self, how, alt, numeric_only)\u001b[0m\n\u001b[1;32m   3348\u001b[0m \u001b[0;34m\u001b[0m\u001b[0m\n\u001b[1;32m   3349\u001b[0m         \u001b[0;32mif\u001b[0m \u001b[0mlen\u001b[0m\u001b[0;34m(\u001b[0m\u001b[0mnew_blocks\u001b[0m\u001b[0;34m)\u001b[0m \u001b[0;34m==\u001b[0m \u001b[0;36m0\u001b[0m\u001b[0;34m:\u001b[0m\u001b[0;34m\u001b[0m\u001b[0m\n\u001b[0;32m-> 3350\u001b[0;31m             \u001b[0;32mraise\u001b[0m \u001b[0mDataError\u001b[0m\u001b[0;34m(\u001b[0m\u001b[0;34m'No numeric types to aggregate'\u001b[0m\u001b[0;34m)\u001b[0m\u001b[0;34m\u001b[0m\u001b[0m\n\u001b[0m\u001b[1;32m   3351\u001b[0m \u001b[0;34m\u001b[0m\u001b[0m\n\u001b[1;32m   3352\u001b[0m         \u001b[0;31m# reset the locs in the blocks to correspond to our\u001b[0m\u001b[0;34m\u001b[0m\u001b[0;34m\u001b[0m\u001b[0m\n",
      "\u001b[0;31mDataError\u001b[0m: No numeric types to aggregate"
     ]
    }
   ],
   "source": [
    "nerdy_major_summary = pd.pivot_table(nerdy_sub_long, columns=['variable'], values='value',\n",
    "                                     index=['major'], aggfunc=[np.mean, np.median, np.std, len],\n",
    "                                     fill_value=np.nan)"
   ]
  },
  {
   "cell_type": "markdown",
   "metadata": {
    "slideshow": {
     "slide_type": "slide"
    }
   },
   "source": [
    "What's that error?  Let's try to figure it out...."
   ]
  },
  {
   "cell_type": "code",
   "execution_count": 27,
   "metadata": {
    "slideshow": {
     "slide_type": "slide"
    }
   },
   "outputs": [
    {
     "data": {
      "text/plain": [
       "subject_id     int64\n",
       "major         object\n",
       "variable      object\n",
       "value         object\n",
       "dtype: object"
      ]
     },
     "execution_count": 27,
     "metadata": {},
     "output_type": "execute_result"
    }
   ],
   "source": [
    "nerdy_sub_long.dtypes"
   ]
  },
  {
   "cell_type": "code",
   "execution_count": 28,
   "metadata": {
    "collapsed": true,
    "slideshow": {
     "slide_type": "fragment"
    }
   },
   "outputs": [],
   "source": [
    "nerdy_sub_long['value'] = nerdy_sub_long['value'].astype(float)"
   ]
  },
  {
   "cell_type": "code",
   "execution_count": 29,
   "metadata": {
    "slideshow": {
     "slide_type": "fragment"
    }
   },
   "outputs": [
    {
     "data": {
      "text/plain": [
       "subject_id      int64\n",
       "major          object\n",
       "variable       object\n",
       "value         float64\n",
       "dtype: object"
      ]
     },
     "execution_count": 29,
     "metadata": {},
     "output_type": "execute_result"
    }
   ],
   "source": [
    "nerdy_sub_long.dtypes"
   ]
  },
  {
   "cell_type": "code",
   "execution_count": 30,
   "metadata": {
    "collapsed": true,
    "slideshow": {
     "slide_type": "slide"
    }
   },
   "outputs": [],
   "source": [
    "nerdy_major_summary = pd.pivot_table(nerdy_sub_long, columns=['variable'], values='value',\n",
    "                                     index=['major'], aggfunc=[np.mean, np.median, np.std, len],\n",
    "                                     fill_value=np.nan)"
   ]
  },
  {
   "cell_type": "markdown",
   "metadata": {
    "slideshow": {
     "slide_type": "slide"
    }
   },
   "source": [
    "The output DataFrame gives you a \"hierarchical\" column index — the three variables for each aggregate function. The row index is the `major` groups.\n",
    "\n",
    "If you apply more index variables, the row indices will also become hierarchical! However, this can quickly make for a bloated DataFrame."
   ]
  },
  {
   "cell_type": "code",
   "execution_count": 31,
   "metadata": {
    "slideshow": {
     "slide_type": "-"
    }
   },
   "outputs": [
    {
     "data": {
      "text/html": [
       "<div>\n",
       "<style>\n",
       "    .dataframe thead tr:only-child th {\n",
       "        text-align: right;\n",
       "    }\n",
       "\n",
       "    .dataframe thead th {\n",
       "        text-align: left;\n",
       "    }\n",
       "\n",
       "    .dataframe tbody tr th {\n",
       "        vertical-align: top;\n",
       "    }\n",
       "</style>\n",
       "<table border=\"1\" class=\"dataframe\">\n",
       "  <thead>\n",
       "    <tr>\n",
       "      <th></th>\n",
       "      <th colspan=\"2\" halign=\"left\">mean</th>\n",
       "      <th colspan=\"2\" halign=\"left\">median</th>\n",
       "      <th colspan=\"2\" halign=\"left\">std</th>\n",
       "      <th colspan=\"2\" halign=\"left\">len</th>\n",
       "    </tr>\n",
       "    <tr>\n",
       "      <th>variable</th>\n",
       "      <th>bookish</th>\n",
       "      <th>calm</th>\n",
       "      <th>bookish</th>\n",
       "      <th>calm</th>\n",
       "      <th>bookish</th>\n",
       "      <th>calm</th>\n",
       "      <th>bookish</th>\n",
       "      <th>calm</th>\n",
       "    </tr>\n",
       "    <tr>\n",
       "      <th>major</th>\n",
       "      <th></th>\n",
       "      <th></th>\n",
       "      <th></th>\n",
       "      <th></th>\n",
       "      <th></th>\n",
       "      <th></th>\n",
       "      <th></th>\n",
       "      <th></th>\n",
       "    </tr>\n",
       "  </thead>\n",
       "  <tbody>\n",
       "    <tr>\n",
       "      <th>None yet</th>\n",
       "      <td>3.000000</td>\n",
       "      <td>3.000000</td>\n",
       "      <td>3.0</td>\n",
       "      <td>3.0</td>\n",
       "      <td>NaN</td>\n",
       "      <td>NaN</td>\n",
       "      <td>1</td>\n",
       "      <td>1</td>\n",
       "    </tr>\n",
       "    <tr>\n",
       "      <th>+ACI-+ACIAIg-hotel and restaurant management+ACIAIg-+ACI-</th>\n",
       "      <td>2.000000</td>\n",
       "      <td>7.000000</td>\n",
       "      <td>2.0</td>\n",
       "      <td>7.0</td>\n",
       "      <td>NaN</td>\n",
       "      <td>NaN</td>\n",
       "      <td>1</td>\n",
       "      <td>1</td>\n",
       "    </tr>\n",
       "    <tr>\n",
       "      <th>Aerospace Engineer</th>\n",
       "      <td>2.000000</td>\n",
       "      <td>7.000000</td>\n",
       "      <td>2.0</td>\n",
       "      <td>7.0</td>\n",
       "      <td>NaN</td>\n",
       "      <td>NaN</td>\n",
       "      <td>1</td>\n",
       "      <td>1</td>\n",
       "    </tr>\n",
       "    <tr>\n",
       "      <th>Aerospace Engineering</th>\n",
       "      <td>4.000000</td>\n",
       "      <td>3.000000</td>\n",
       "      <td>4.0</td>\n",
       "      <td>3.0</td>\n",
       "      <td>NaN</td>\n",
       "      <td>NaN</td>\n",
       "      <td>1</td>\n",
       "      <td>1</td>\n",
       "    </tr>\n",
       "    <tr>\n",
       "      <th>Agricultural Economics</th>\n",
       "      <td>2.000000</td>\n",
       "      <td>6.000000</td>\n",
       "      <td>2.0</td>\n",
       "      <td>6.0</td>\n",
       "      <td>NaN</td>\n",
       "      <td>NaN</td>\n",
       "      <td>1</td>\n",
       "      <td>1</td>\n",
       "    </tr>\n",
       "    <tr>\n",
       "      <th>Anthropology</th>\n",
       "      <td>3.666667</td>\n",
       "      <td>4.333333</td>\n",
       "      <td>4.0</td>\n",
       "      <td>4.0</td>\n",
       "      <td>0.577350</td>\n",
       "      <td>2.516611</td>\n",
       "      <td>3</td>\n",
       "      <td>3</td>\n",
       "    </tr>\n",
       "    <tr>\n",
       "      <th>Anthropology</th>\n",
       "      <td>4.000000</td>\n",
       "      <td>3.000000</td>\n",
       "      <td>4.0</td>\n",
       "      <td>3.0</td>\n",
       "      <td>NaN</td>\n",
       "      <td>NaN</td>\n",
       "      <td>1</td>\n",
       "      <td>1</td>\n",
       "    </tr>\n",
       "    <tr>\n",
       "      <th>Architecture</th>\n",
       "      <td>4.000000</td>\n",
       "      <td>5.666667</td>\n",
       "      <td>4.0</td>\n",
       "      <td>6.0</td>\n",
       "      <td>1.000000</td>\n",
       "      <td>1.527525</td>\n",
       "      <td>3</td>\n",
       "      <td>3</td>\n",
       "    </tr>\n",
       "    <tr>\n",
       "      <th>Architecture</th>\n",
       "      <td>1.000000</td>\n",
       "      <td>5.000000</td>\n",
       "      <td>1.0</td>\n",
       "      <td>5.0</td>\n",
       "      <td>NaN</td>\n",
       "      <td>NaN</td>\n",
       "      <td>1</td>\n",
       "      <td>1</td>\n",
       "    </tr>\n",
       "    <tr>\n",
       "      <th>Art</th>\n",
       "      <td>4.333333</td>\n",
       "      <td>5.333333</td>\n",
       "      <td>4.5</td>\n",
       "      <td>5.5</td>\n",
       "      <td>0.816497</td>\n",
       "      <td>1.211060</td>\n",
       "      <td>6</td>\n",
       "      <td>6</td>\n",
       "    </tr>\n",
       "  </tbody>\n",
       "</table>\n",
       "</div>"
      ],
      "text/plain": [
       "                                                        mean            \\\n",
       "variable                                             bookish      calm   \n",
       "major                                                                    \n",
       " None yet                                           3.000000  3.000000   \n",
       "+ACI-+ACIAIg-hotel and restaurant management+AC...  2.000000  7.000000   \n",
       "Aerospace Engineer                                  2.000000  7.000000   \n",
       "Aerospace Engineering                               4.000000  3.000000   \n",
       "Agricultural Economics                              2.000000  6.000000   \n",
       "Anthropology                                        3.666667  4.333333   \n",
       "Anthropology                                        4.000000  3.000000   \n",
       "Architecture                                        4.000000  5.666667   \n",
       "Architecture                                        1.000000  5.000000   \n",
       "Art                                                 4.333333  5.333333   \n",
       "\n",
       "                                                    median            std  \\\n",
       "variable                                           bookish calm   bookish   \n",
       "major                                                                       \n",
       " None yet                                              3.0  3.0       NaN   \n",
       "+ACI-+ACIAIg-hotel and restaurant management+AC...     2.0  7.0       NaN   \n",
       "Aerospace Engineer                                     2.0  7.0       NaN   \n",
       "Aerospace Engineering                                  4.0  3.0       NaN   \n",
       "Agricultural Economics                                 2.0  6.0       NaN   \n",
       "Anthropology                                           4.0  4.0  0.577350   \n",
       "Anthropology                                           4.0  3.0       NaN   \n",
       "Architecture                                           4.0  6.0  1.000000   \n",
       "Architecture                                           1.0  5.0       NaN   \n",
       "Art                                                    4.5  5.5  0.816497   \n",
       "\n",
       "                                                                 len       \n",
       "variable                                                calm bookish calm  \n",
       "major                                                                      \n",
       " None yet                                                NaN       1    1  \n",
       "+ACI-+ACIAIg-hotel and restaurant management+AC...       NaN       1    1  \n",
       "Aerospace Engineer                                       NaN       1    1  \n",
       "Aerospace Engineering                                    NaN       1    1  \n",
       "Agricultural Economics                                   NaN       1    1  \n",
       "Anthropology                                        2.516611       3    3  \n",
       "Anthropology                                             NaN       1    1  \n",
       "Architecture                                        1.527525       3    3  \n",
       "Architecture                                             NaN       1    1  \n",
       "Art                                                 1.211060       6    6  "
      ]
     },
     "execution_count": 31,
     "metadata": {},
     "output_type": "execute_result"
    }
   ],
   "source": [
    "nerdy_major_summary.head(10)"
   ]
  },
  {
   "cell_type": "markdown",
   "metadata": {
    "slideshow": {
     "slide_type": "slide"
    }
   },
   "source": [
    "<a id='examining_multiindex'></a>\n",
    "\n",
    "### The Inner Workings of the MultiIndex\n",
    "\n",
    "--- \n",
    "\n",
    "\n",
    "\n",
    "If you print out the columns, you can see the data set has become a `pandas` `MultiIndex` object that has levels, labels, and names."
   ]
  },
  {
   "cell_type": "code",
   "execution_count": 32,
   "metadata": {
    "slideshow": {
     "slide_type": "fragment"
    }
   },
   "outputs": [
    {
     "name": "stdout",
     "output_type": "stream",
     "text": [
      "MultiIndex(levels=[[u'mean', u'median', u'std', u'len'], [u'bookish', u'calm']],\n",
      "           labels=[[0, 0, 1, 1, 2, 2, 3, 3], [0, 1, 0, 1, 0, 1, 0, 1]],\n",
      "           names=[None, u'variable'])\n"
     ]
    }
   ],
   "source": [
    "print nerdy_major_summary.columns"
   ]
  },
  {
   "cell_type": "markdown",
   "metadata": {
    "slideshow": {
     "slide_type": "slide"
    }
   },
   "source": [
    "Indexing along the hierarchical column headers can be done with chained bracket keys "
   ]
  },
  {
   "cell_type": "code",
   "execution_count": 33,
   "metadata": {
    "slideshow": {
     "slide_type": "-"
    }
   },
   "outputs": [
    {
     "data": {
      "text/html": [
       "<div>\n",
       "<style>\n",
       "    .dataframe thead tr:only-child th {\n",
       "        text-align: right;\n",
       "    }\n",
       "\n",
       "    .dataframe thead th {\n",
       "        text-align: left;\n",
       "    }\n",
       "\n",
       "    .dataframe tbody tr th {\n",
       "        vertical-align: top;\n",
       "    }\n",
       "</style>\n",
       "<table border=\"1\" class=\"dataframe\">\n",
       "  <thead>\n",
       "    <tr style=\"text-align: right;\">\n",
       "      <th>variable</th>\n",
       "      <th>bookish</th>\n",
       "      <th>calm</th>\n",
       "    </tr>\n",
       "    <tr>\n",
       "      <th>major</th>\n",
       "      <th></th>\n",
       "      <th></th>\n",
       "    </tr>\n",
       "  </thead>\n",
       "  <tbody>\n",
       "    <tr>\n",
       "      <th>None yet</th>\n",
       "      <td>3.0</td>\n",
       "      <td>3.0</td>\n",
       "    </tr>\n",
       "    <tr>\n",
       "      <th>+ACI-+ACIAIg-hotel and restaurant management+ACIAIg-+ACI-</th>\n",
       "      <td>2.0</td>\n",
       "      <td>7.0</td>\n",
       "    </tr>\n",
       "  </tbody>\n",
       "</table>\n",
       "</div>"
      ],
      "text/plain": [
       "variable                                            bookish  calm\n",
       "major                                                            \n",
       " None yet                                               3.0   3.0\n",
       "+ACI-+ACIAIg-hotel and restaurant management+AC...      2.0   7.0"
      ]
     },
     "execution_count": 33,
     "metadata": {},
     "output_type": "execute_result"
    }
   ],
   "source": [
    "nerdy_major_summary['mean'].head(2)"
   ]
  },
  {
   "cell_type": "code",
   "execution_count": 34,
   "metadata": {
    "slideshow": {
     "slide_type": "fragment"
    }
   },
   "outputs": [
    {
     "data": {
      "text/plain": [
       "major\n",
       " None yet                                                    3.0\n",
       "+ACI-+ACIAIg-hotel and restaurant management+ACIAIg-+ACI-    2.0\n",
       "Name: bookish, dtype: float64"
      ]
     },
     "execution_count": 34,
     "metadata": {},
     "output_type": "execute_result"
    }
   ],
   "source": [
    "nerdy_major_summary['mean']['bookish'].head(2)"
   ]
  },
  {
   "cell_type": "code",
   "execution_count": 35,
   "metadata": {
    "slideshow": {
     "slide_type": "fragment"
    }
   },
   "outputs": [
    {
     "data": {
      "text/html": [
       "<div>\n",
       "<style>\n",
       "    .dataframe thead tr:only-child th {\n",
       "        text-align: right;\n",
       "    }\n",
       "\n",
       "    .dataframe thead th {\n",
       "        text-align: left;\n",
       "    }\n",
       "\n",
       "    .dataframe tbody tr th {\n",
       "        vertical-align: top;\n",
       "    }\n",
       "</style>\n",
       "<table border=\"1\" class=\"dataframe\">\n",
       "  <thead>\n",
       "    <tr style=\"text-align: right;\">\n",
       "      <th>variable</th>\n",
       "      <th>calm</th>\n",
       "      <th>bookish</th>\n",
       "    </tr>\n",
       "    <tr>\n",
       "      <th>major</th>\n",
       "      <th></th>\n",
       "      <th></th>\n",
       "    </tr>\n",
       "  </thead>\n",
       "  <tbody>\n",
       "    <tr>\n",
       "      <th>None yet</th>\n",
       "      <td>3.0</td>\n",
       "      <td>3.0</td>\n",
       "    </tr>\n",
       "    <tr>\n",
       "      <th>+ACI-+ACIAIg-hotel and restaurant management+ACIAIg-+ACI-</th>\n",
       "      <td>7.0</td>\n",
       "      <td>2.0</td>\n",
       "    </tr>\n",
       "  </tbody>\n",
       "</table>\n",
       "</div>"
      ],
      "text/plain": [
       "variable                                            calm  bookish\n",
       "major                                                            \n",
       " None yet                                            3.0      3.0\n",
       "+ACI-+ACIAIg-hotel and restaurant management+AC...   7.0      2.0"
      ]
     },
     "execution_count": 35,
     "metadata": {},
     "output_type": "execute_result"
    }
   ],
   "source": [
    "nerdy_major_summary['mean'][['calm','bookish']].head(2)"
   ]
  },
  {
   "cell_type": "markdown",
   "metadata": {
    "slideshow": {
     "slide_type": "slide"
    }
   },
   "source": [
    "<a id='multiindex_to_flat'></a>\n",
    "\n",
    "### Getting Rid of the MultiIndex: \"Flattening\" Data\n",
    "\n",
    "---\n",
    "\n",
    "MultiIndex DataFrames hold great potential and are a cool concept. That being said, the overhead and confusion on how to subset/mask them is most often not worth it, especially when your data needs to be formatted for insertion into a model.\n",
    "\n",
    "The most reliable way to \"flatten\" a MultiIndexed DataFrame is with the `.to_records()` function. To make this a new DataFrame, it needs to be wrapped in a `pd.DataFrame()` like so:"
   ]
  },
  {
   "cell_type": "code",
   "execution_count": 36,
   "metadata": {
    "slideshow": {
     "slide_type": "slide"
    }
   },
   "outputs": [
    {
     "data": {
      "text/html": [
       "<div>\n",
       "<style>\n",
       "    .dataframe thead tr:only-child th {\n",
       "        text-align: right;\n",
       "    }\n",
       "\n",
       "    .dataframe thead th {\n",
       "        text-align: left;\n",
       "    }\n",
       "\n",
       "    .dataframe tbody tr th {\n",
       "        vertical-align: top;\n",
       "    }\n",
       "</style>\n",
       "<table border=\"1\" class=\"dataframe\">\n",
       "  <thead>\n",
       "    <tr style=\"text-align: right;\">\n",
       "      <th></th>\n",
       "      <th>major</th>\n",
       "      <th>('mean', 'bookish')</th>\n",
       "      <th>('mean', 'calm')</th>\n",
       "      <th>('median', 'bookish')</th>\n",
       "      <th>('median', 'calm')</th>\n",
       "      <th>('std', 'bookish')</th>\n",
       "      <th>('std', 'calm')</th>\n",
       "      <th>('len', 'bookish')</th>\n",
       "      <th>('len', 'calm')</th>\n",
       "    </tr>\n",
       "  </thead>\n",
       "  <tbody>\n",
       "    <tr>\n",
       "      <th>0</th>\n",
       "      <td>None yet</td>\n",
       "      <td>3.0</td>\n",
       "      <td>3.0</td>\n",
       "      <td>3.0</td>\n",
       "      <td>3.0</td>\n",
       "      <td>NaN</td>\n",
       "      <td>NaN</td>\n",
       "      <td>1</td>\n",
       "      <td>1</td>\n",
       "    </tr>\n",
       "    <tr>\n",
       "      <th>1</th>\n",
       "      <td>+ACI-+ACIAIg-hotel and restaurant management+A...</td>\n",
       "      <td>2.0</td>\n",
       "      <td>7.0</td>\n",
       "      <td>2.0</td>\n",
       "      <td>7.0</td>\n",
       "      <td>NaN</td>\n",
       "      <td>NaN</td>\n",
       "      <td>1</td>\n",
       "      <td>1</td>\n",
       "    </tr>\n",
       "  </tbody>\n",
       "</table>\n",
       "</div>"
      ],
      "text/plain": [
       "                                               major  ('mean', 'bookish')  \\\n",
       "0                                           None yet                  3.0   \n",
       "1  +ACI-+ACIAIg-hotel and restaurant management+A...                  2.0   \n",
       "\n",
       "   ('mean', 'calm')  ('median', 'bookish')  ('median', 'calm')  \\\n",
       "0               3.0                    3.0                 3.0   \n",
       "1               7.0                    2.0                 7.0   \n",
       "\n",
       "   ('std', 'bookish')  ('std', 'calm')  ('len', 'bookish')  ('len', 'calm')  \n",
       "0                 NaN              NaN                   1                1  \n",
       "1                 NaN              NaN                   1                1  "
      ]
     },
     "execution_count": 36,
     "metadata": {},
     "output_type": "execute_result"
    }
   ],
   "source": [
    "nerdy_major_flat = pd.DataFrame(nerdy_major_summary.to_records())\n",
    "nerdy_major_flat.head(2)"
   ]
  },
  {
   "cell_type": "markdown",
   "metadata": {},
   "source": [
    "You can see that the new column names are tuples of the hierarchy of MultiIndexed columns. For example, you could convert these to new, more easily indexed columns with something like a list comprehension.\n"
   ]
  },
  {
   "cell_type": "markdown",
   "metadata": {
    "slideshow": {
     "slide_type": "slide"
    }
   },
   "source": [
    "### Let's see another application for `pivot_table`\n",
    "\n",
    "We'll use the wide dataset, and just create some summary statistics"
   ]
  },
  {
   "cell_type": "code",
   "execution_count": 38,
   "metadata": {},
   "outputs": [
    {
     "data": {
      "text/html": [
       "<div>\n",
       "<style>\n",
       "    .dataframe thead tr:only-child th {\n",
       "        text-align: right;\n",
       "    }\n",
       "\n",
       "    .dataframe thead th {\n",
       "        text-align: left;\n",
       "    }\n",
       "\n",
       "    .dataframe tbody tr th {\n",
       "        vertical-align: top;\n",
       "    }\n",
       "</style>\n",
       "<table border=\"1\" class=\"dataframe\">\n",
       "  <thead>\n",
       "    <tr style=\"text-align: right;\">\n",
       "      <th></th>\n",
       "      <th>subject_id</th>\n",
       "      <th>academic_over_social</th>\n",
       "      <th>age</th>\n",
       "      <th>anxious</th>\n",
       "      <th>bookish</th>\n",
       "      <th>books_over_parties</th>\n",
       "      <th>calm</th>\n",
       "      <th>collect_books</th>\n",
       "      <th>conventional</th>\n",
       "      <th>critical</th>\n",
       "      <th>...</th>\n",
       "      <th>religion</th>\n",
       "      <th>reserved</th>\n",
       "      <th>socially_awkward</th>\n",
       "      <th>strange_person</th>\n",
       "      <th>sympathetic</th>\n",
       "      <th>urban</th>\n",
       "      <th>voted</th>\n",
       "      <th>was_odd_child</th>\n",
       "      <th>watch_science_shows</th>\n",
       "      <th>writing_novel</th>\n",
       "    </tr>\n",
       "  </thead>\n",
       "  <tbody>\n",
       "    <tr>\n",
       "      <th>0</th>\n",
       "      <td>0</td>\n",
       "      <td>5.0</td>\n",
       "      <td>NaN</td>\n",
       "      <td>1.0</td>\n",
       "      <td>5.0</td>\n",
       "      <td>5.0</td>\n",
       "      <td>7.0</td>\n",
       "      <td>5.0</td>\n",
       "      <td>1.0</td>\n",
       "      <td>1.0</td>\n",
       "      <td>...</td>\n",
       "      <td>NaN</td>\n",
       "      <td>7.0</td>\n",
       "      <td>5.0</td>\n",
       "      <td>5.0</td>\n",
       "      <td>7.0</td>\n",
       "      <td>NaN</td>\n",
       "      <td>NaN</td>\n",
       "      <td>5.0</td>\n",
       "      <td>5.0</td>\n",
       "      <td>3.0</td>\n",
       "    </tr>\n",
       "    <tr>\n",
       "      <th>1</th>\n",
       "      <td>1</td>\n",
       "      <td>2.0</td>\n",
       "      <td>50.0</td>\n",
       "      <td>4.0</td>\n",
       "      <td>4.0</td>\n",
       "      <td>4.0</td>\n",
       "      <td>6.0</td>\n",
       "      <td>5.0</td>\n",
       "      <td>1.0</td>\n",
       "      <td>3.0</td>\n",
       "      <td>...</td>\n",
       "      <td>1.0</td>\n",
       "      <td>5.0</td>\n",
       "      <td>5.0</td>\n",
       "      <td>4.0</td>\n",
       "      <td>5.0</td>\n",
       "      <td>2.0</td>\n",
       "      <td>1.0</td>\n",
       "      <td>3.0</td>\n",
       "      <td>5.0</td>\n",
       "      <td>1.0</td>\n",
       "    </tr>\n",
       "    <tr>\n",
       "      <th>2</th>\n",
       "      <td>2</td>\n",
       "      <td>5.0</td>\n",
       "      <td>22.0</td>\n",
       "      <td>7.0</td>\n",
       "      <td>5.0</td>\n",
       "      <td>5.0</td>\n",
       "      <td>2.0</td>\n",
       "      <td>5.0</td>\n",
       "      <td>1.0</td>\n",
       "      <td>6.0</td>\n",
       "      <td>...</td>\n",
       "      <td>1.0</td>\n",
       "      <td>7.0</td>\n",
       "      <td>5.0</td>\n",
       "      <td>5.0</td>\n",
       "      <td>2.0</td>\n",
       "      <td>1.0</td>\n",
       "      <td>1.0</td>\n",
       "      <td>5.0</td>\n",
       "      <td>5.0</td>\n",
       "      <td>4.0</td>\n",
       "    </tr>\n",
       "    <tr>\n",
       "      <th>3</th>\n",
       "      <td>3</td>\n",
       "      <td>5.0</td>\n",
       "      <td>NaN</td>\n",
       "      <td>4.0</td>\n",
       "      <td>4.0</td>\n",
       "      <td>5.0</td>\n",
       "      <td>7.0</td>\n",
       "      <td>5.0</td>\n",
       "      <td>1.0</td>\n",
       "      <td>2.0</td>\n",
       "      <td>...</td>\n",
       "      <td>NaN</td>\n",
       "      <td>2.0</td>\n",
       "      <td>5.0</td>\n",
       "      <td>5.0</td>\n",
       "      <td>6.0</td>\n",
       "      <td>NaN</td>\n",
       "      <td>NaN</td>\n",
       "      <td>5.0</td>\n",
       "      <td>5.0</td>\n",
       "      <td>4.0</td>\n",
       "    </tr>\n",
       "    <tr>\n",
       "      <th>4</th>\n",
       "      <td>4</td>\n",
       "      <td>4.0</td>\n",
       "      <td>NaN</td>\n",
       "      <td>3.0</td>\n",
       "      <td>5.0</td>\n",
       "      <td>5.0</td>\n",
       "      <td>6.0</td>\n",
       "      <td>4.0</td>\n",
       "      <td>2.0</td>\n",
       "      <td>5.0</td>\n",
       "      <td>...</td>\n",
       "      <td>NaN</td>\n",
       "      <td>6.0</td>\n",
       "      <td>0.0</td>\n",
       "      <td>5.0</td>\n",
       "      <td>5.0</td>\n",
       "      <td>NaN</td>\n",
       "      <td>NaN</td>\n",
       "      <td>5.0</td>\n",
       "      <td>4.0</td>\n",
       "      <td>1.0</td>\n",
       "    </tr>\n",
       "  </tbody>\n",
       "</table>\n",
       "<p>5 rows × 57 columns</p>\n",
       "</div>"
      ],
      "text/plain": [
       "   subject_id  academic_over_social   age  anxious  bookish  \\\n",
       "0           0                   5.0   NaN      1.0      5.0   \n",
       "1           1                   2.0  50.0      4.0      4.0   \n",
       "2           2                   5.0  22.0      7.0      5.0   \n",
       "3           3                   5.0   NaN      4.0      4.0   \n",
       "4           4                   4.0   NaN      3.0      5.0   \n",
       "\n",
       "   books_over_parties  calm  collect_books  conventional  critical  \\\n",
       "0                 5.0   7.0            5.0           1.0       1.0   \n",
       "1                 4.0   6.0            5.0           1.0       3.0   \n",
       "2                 5.0   2.0            5.0           1.0       6.0   \n",
       "3                 5.0   7.0            5.0           1.0       2.0   \n",
       "4                 5.0   6.0            4.0           2.0       5.0   \n",
       "\n",
       "       ...        religion  reserved  socially_awkward  strange_person  \\\n",
       "0      ...             NaN       7.0               5.0             5.0   \n",
       "1      ...             1.0       5.0               5.0             4.0   \n",
       "2      ...             1.0       7.0               5.0             5.0   \n",
       "3      ...             NaN       2.0               5.0             5.0   \n",
       "4      ...             NaN       6.0               0.0             5.0   \n",
       "\n",
       "   sympathetic  urban  voted  was_odd_child  watch_science_shows  \\\n",
       "0          7.0    NaN    NaN            5.0                  5.0   \n",
       "1          5.0    2.0    1.0            3.0                  5.0   \n",
       "2          2.0    1.0    1.0            5.0                  5.0   \n",
       "3          6.0    NaN    NaN            5.0                  5.0   \n",
       "4          5.0    NaN    NaN            5.0                  4.0   \n",
       "\n",
       "   writing_novel  \n",
       "0            3.0  \n",
       "1            1.0  \n",
       "2            4.0  \n",
       "3            4.0  \n",
       "4            1.0  \n",
       "\n",
       "[5 rows x 57 columns]"
      ]
     },
     "execution_count": 38,
     "metadata": {},
     "output_type": "execute_result"
    }
   ],
   "source": [
    "nerdy_wide.head()"
   ]
  },
  {
   "cell_type": "markdown",
   "metadata": {
    "slideshow": {
     "slide_type": "slide"
    }
   },
   "source": [
    "> Check: can anyone describe what the below pivot_table is showing?"
   ]
  },
  {
   "cell_type": "code",
   "execution_count": 39,
   "metadata": {
    "slideshow": {
     "slide_type": "-"
    }
   },
   "outputs": [
    {
     "data": {
      "text/html": [
       "<div>\n",
       "<style>\n",
       "    .dataframe thead tr:only-child th {\n",
       "        text-align: right;\n",
       "    }\n",
       "\n",
       "    .dataframe thead th {\n",
       "        text-align: left;\n",
       "    }\n",
       "\n",
       "    .dataframe tbody tr th {\n",
       "        vertical-align: top;\n",
       "    }\n",
       "</style>\n",
       "<table border=\"1\" class=\"dataframe\">\n",
       "  <thead>\n",
       "    <tr style=\"text-align: right;\">\n",
       "      <th>calm</th>\n",
       "      <th>0.0</th>\n",
       "      <th>1.0</th>\n",
       "      <th>2.0</th>\n",
       "      <th>3.0</th>\n",
       "      <th>4.0</th>\n",
       "      <th>5.0</th>\n",
       "      <th>6.0</th>\n",
       "      <th>7.0</th>\n",
       "    </tr>\n",
       "    <tr>\n",
       "      <th>anxious</th>\n",
       "      <th></th>\n",
       "      <th></th>\n",
       "      <th></th>\n",
       "      <th></th>\n",
       "      <th></th>\n",
       "      <th></th>\n",
       "      <th></th>\n",
       "      <th></th>\n",
       "    </tr>\n",
       "  </thead>\n",
       "  <tbody>\n",
       "    <tr>\n",
       "      <th>0.0</th>\n",
       "      <td>27.666667</td>\n",
       "      <td>NaN</td>\n",
       "      <td>NaN</td>\n",
       "      <td>NaN</td>\n",
       "      <td>NaN</td>\n",
       "      <td>NaN</td>\n",
       "      <td>NaN</td>\n",
       "      <td>NaN</td>\n",
       "    </tr>\n",
       "    <tr>\n",
       "      <th>1.0</th>\n",
       "      <td>NaN</td>\n",
       "      <td>NaN</td>\n",
       "      <td>21.000000</td>\n",
       "      <td>28.400000</td>\n",
       "      <td>18.750000</td>\n",
       "      <td>30.166667</td>\n",
       "      <td>25.157895</td>\n",
       "      <td>26.615385</td>\n",
       "    </tr>\n",
       "    <tr>\n",
       "      <th>2.0</th>\n",
       "      <td>NaN</td>\n",
       "      <td>33.500000</td>\n",
       "      <td>15.500000</td>\n",
       "      <td>32.111111</td>\n",
       "      <td>24.000000</td>\n",
       "      <td>33.833333</td>\n",
       "      <td>33.692308</td>\n",
       "      <td>32.368421</td>\n",
       "    </tr>\n",
       "    <tr>\n",
       "      <th>3.0</th>\n",
       "      <td>NaN</td>\n",
       "      <td>42.000000</td>\n",
       "      <td>26.600000</td>\n",
       "      <td>21.833333</td>\n",
       "      <td>27.428571</td>\n",
       "      <td>29.933333</td>\n",
       "      <td>30.450000</td>\n",
       "      <td>26.400000</td>\n",
       "    </tr>\n",
       "    <tr>\n",
       "      <th>4.0</th>\n",
       "      <td>22.000000</td>\n",
       "      <td>16.000000</td>\n",
       "      <td>21.500000</td>\n",
       "      <td>31.700000</td>\n",
       "      <td>26.500000</td>\n",
       "      <td>26.416667</td>\n",
       "      <td>34.166667</td>\n",
       "      <td>25.125000</td>\n",
       "    </tr>\n",
       "    <tr>\n",
       "      <th>5.0</th>\n",
       "      <td>25.000000</td>\n",
       "      <td>18.285714</td>\n",
       "      <td>24.636364</td>\n",
       "      <td>27.653846</td>\n",
       "      <td>25.735294</td>\n",
       "      <td>25.645161</td>\n",
       "      <td>26.636364</td>\n",
       "      <td>23.538462</td>\n",
       "    </tr>\n",
       "    <tr>\n",
       "      <th>6.0</th>\n",
       "      <td>17.000000</td>\n",
       "      <td>18.000000</td>\n",
       "      <td>26.866667</td>\n",
       "      <td>23.413793</td>\n",
       "      <td>18.923077</td>\n",
       "      <td>28.212121</td>\n",
       "      <td>29.600000</td>\n",
       "      <td>35.833333</td>\n",
       "    </tr>\n",
       "    <tr>\n",
       "      <th>7.0</th>\n",
       "      <td>NaN</td>\n",
       "      <td>20.531250</td>\n",
       "      <td>21.857143</td>\n",
       "      <td>20.925926</td>\n",
       "      <td>20.769231</td>\n",
       "      <td>19.181818</td>\n",
       "      <td>29.600000</td>\n",
       "      <td>16.500000</td>\n",
       "    </tr>\n",
       "  </tbody>\n",
       "</table>\n",
       "</div>"
      ],
      "text/plain": [
       "calm           0.0        1.0        2.0        3.0        4.0        5.0  \\\n",
       "anxious                                                                     \n",
       "0.0      27.666667        NaN        NaN        NaN        NaN        NaN   \n",
       "1.0            NaN        NaN  21.000000  28.400000  18.750000  30.166667   \n",
       "2.0            NaN  33.500000  15.500000  32.111111  24.000000  33.833333   \n",
       "3.0            NaN  42.000000  26.600000  21.833333  27.428571  29.933333   \n",
       "4.0      22.000000  16.000000  21.500000  31.700000  26.500000  26.416667   \n",
       "5.0      25.000000  18.285714  24.636364  27.653846  25.735294  25.645161   \n",
       "6.0      17.000000  18.000000  26.866667  23.413793  18.923077  28.212121   \n",
       "7.0            NaN  20.531250  21.857143  20.925926  20.769231  19.181818   \n",
       "\n",
       "calm           6.0        7.0  \n",
       "anxious                        \n",
       "0.0            NaN        NaN  \n",
       "1.0      25.157895  26.615385  \n",
       "2.0      33.692308  32.368421  \n",
       "3.0      30.450000  26.400000  \n",
       "4.0      34.166667  25.125000  \n",
       "5.0      26.636364  23.538462  \n",
       "6.0      29.600000  35.833333  \n",
       "7.0      29.600000  16.500000  "
      ]
     },
     "execution_count": 39,
     "metadata": {},
     "output_type": "execute_result"
    }
   ],
   "source": [
    "pd.pivot_table(nerdy_wide, index='anxious', columns = 'calm', values='age', aggfunc=np.mean)"
   ]
  },
  {
   "cell_type": "code",
   "execution_count": 40,
   "metadata": {
    "slideshow": {
     "slide_type": "slide"
    }
   },
   "outputs": [
    {
     "data": {
      "text/plain": [
       "22.0"
      ]
     },
     "execution_count": 40,
     "metadata": {},
     "output_type": "execute_result"
    }
   ],
   "source": [
    "nerdy_wide[(nerdy_wide['anxious']==4) & (nerdy_wide['calm']==0)]['age'].mean()"
   ]
  },
  {
   "cell_type": "markdown",
   "metadata": {
    "collapsed": true,
    "slideshow": {
     "slide_type": "slide"
    }
   },
   "source": [
    "### Conclusion:\n",
    "- we saw the difference between long and wide data\n",
    "- we used pivot_table for long -> wide\n",
    "- we used melt for wide -> long\n",
    "- we saw other applications of pivot_table, including summarizing data\n"
   ]
  },
  {
   "cell_type": "code",
   "execution_count": null,
   "metadata": {
    "collapsed": true
   },
   "outputs": [],
   "source": []
  },
  {
   "cell_type": "code",
   "execution_count": null,
   "metadata": {
    "collapsed": true
   },
   "outputs": [],
   "source": []
  }
 ],
 "metadata": {
  "celltoolbar": "Slideshow",
  "kernelspec": {
   "display_name": "Python 2",
   "language": "python",
   "name": "python2"
  },
  "language_info": {
   "codemirror_mode": {
    "name": "ipython",
    "version": 2
   },
   "file_extension": ".py",
   "mimetype": "text/x-python",
   "name": "python",
   "nbconvert_exporter": "python",
   "pygments_lexer": "ipython2",
   "version": "2.7.13"
  }
 },
 "nbformat": 4,
 "nbformat_minor": 1
}
